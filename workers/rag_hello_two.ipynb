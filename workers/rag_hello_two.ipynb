{
 "cells": [
  {
   "cell_type": "markdown",
   "id": "ad3f6e66",
   "metadata": {},
   "source": [
    "# RAG Worker Two - Simple Demo\n",
    "\n",
    "This notebook processes a query and returns results using scrapbook for data exchange."
   ]
  },
  {
   "cell_type": "code",
   "execution_count": null,
   "id": "ef5f17f2",
   "metadata": {
    "tags": [
     "parameters"
    ]
   },
   "outputs": [],
   "source": [
    "# --- parameters (Papermill will inject into this cell) ---\n",
    "query = \"hello\"\n",
    "pipeline_version = \"two@1\"\n"
   ]
  },
  {
   "cell_type": "code",
   "execution_count": null,
   "id": "e1d6c2a6",
   "metadata": {},
   "outputs": [],
   "source": [
    "# --- compute ---\n",
    "answer_text = \"TWO: \" + str(query)\n",
    "\n",
    "# --- publish outputs ---\n",
    "import scrapbook as sb\n",
    "sb.glue(\"version\", pipeline_version)\n",
    "sb.glue(\"answer\", answer_text)\n",
    "sb.glue(\"metrics\", {\"echo_len\": len(str(query))})\n",
    "print(\"Glued: version, answer, metrics\")\n"
   ]
  }
 ],
 "metadata": {
  "kernelspec": {
   "display_name": "Python 3",
   "language": "python",
   "name": "python3"
  },
  "language_info": {
   "name": "python",
   "version": "3.13.3"
  }
 },
 "nbformat": 4,
 "nbformat_minor": 5
}
