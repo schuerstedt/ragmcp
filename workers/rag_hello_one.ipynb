{
 "cells": [
  {
   "cell_type": "markdown",
   "id": "b9b674e1",
   "metadata": {},
   "source": [
    "# RAG Worker One - Simple Demo\n",
    "\n",
    "This notebook processes a query and returns results using scrapbook for data exchange."
   ]
  },
  {
   "cell_type": "code",
   "execution_count": null,
   "id": "8946be5d",
   "metadata": {
    "tags": [
     "parameters"
    ]
   },
   "outputs": [],
   "source": [
    "# --- parameters (Papermill will inject into this cell) ---\n",
    "query = \"hello\"\n",
    "pipeline_version = \"one@1\"\n"
   ]
  },
  {
   "cell_type": "code",
   "execution_count": null,
   "id": "ae3a9c00",
   "metadata": {},
   "outputs": [],
   "source": [
    "# --- compute ---\n",
    "answer_text = \"ONE: \" + str(query)\n",
    "\n",
    "# --- publish outputs ---\n",
    "import scrapbook as sb\n",
    "sb.glue(\"version\", pipeline_version)\n",
    "sb.glue(\"answer\", answer_text)\n",
    "sb.glue(\"metrics\", {\"echo_len\": len(str(query))})\n",
    "print(\"Glued: version, answer, metrics\")\n"
   ]
  },
  {
   "cell_type": "code",
   "execution_count": null,
   "id": "05fdae15",
   "metadata": {},
   "outputs": [],
   "source": [
    "# --- inspect what we glued (optional debug) ---\n",
    "# This shows what scrapbook stored\n",
    "import scrapbook as sb\n",
    "# Note: This will only work AFTER the notebook has been executed by papermill\n",
    "# because scrapbook data is stored in the output notebook metadata"
   ]
  }
 ],
 "metadata": {
  "kernelspec": {
   "display_name": "Python 3",
   "language": "python",
   "name": "python3"
  },
  "language_info": {
   "name": "python",
   "version": "3.13.3"
  }
 },
 "nbformat": 4,
 "nbformat_minor": 5
}
