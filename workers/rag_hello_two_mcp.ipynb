{
 "cells": [
  {
   "cell_type": "markdown",
   "id": "9c0376d2",
   "metadata": {},
   "source": [
    "# RAG Worker Two - MCP Compatible\n",
    "\n",
    "Alternative RAG implementation designed for MCP orchestration.\n",
    "Demonstrates different processing approach with same MCP interface."
   ]
  },
  {
   "cell_type": "code",
   "execution_count": null,
   "id": "04fb5731",
   "metadata": {
    "tags": [
     "parameters"
    ]
   },
   "outputs": [],
   "source": [
    "# --- MCP Parameters (Papermill injection point) ---\n",
    "query = \"hello two\"\n",
    "return_chunks = False\n",
    "return_answer = True\n",
    "reindex = False\n",
    "pipeline_version = \"two@mcp\""
   ]
  },
  {
   "cell_type": "markdown",
   "id": "f5a318a6",
   "metadata": {},
   "source": [
    "## RAG Processing - Method Two\n",
    "\n",
    "Alternative RAG approach with enhanced processing and MCP-optimized outputs."
   ]
  },
  {
   "cell_type": "code",
   "execution_count": null,
   "id": "c1bd3fc9",
   "metadata": {},
   "outputs": [],
   "source": [
    "# --- RAG Implementation Two ---\n",
    "import time\n",
    "from pathlib import Path\n",
    "\n",
    "# Get the base directory for relative paths\n",
    "NOTEBOOK_DIR = Path.cwd()  # For regular Jupyter\n",
    "# Alternative for environments where __file__ is available:\n",
    "# NOTEBOOK_DIR = Path(__file__).parent if '__file__' in globals() else Path.cwd()\n",
    "\n",
    "print(f\"🔍 Worker Two processing: '{query}'\")\n",
    "print(f\"📋 Pipeline version: {pipeline_version}\")\n",
    "print(f\"🎛️ Return chunks: {return_chunks}, Return answer: {return_answer}\")\n",
    "print(f\"🔄 Reindex: {reindex}\")\n",
    "print(f\"📁 Working directory: {NOTEBOOK_DIR}\")\n",
    "\n",
    "# Handle enhanced reindexing if requested\n",
    "if reindex:\n",
    "    print(\"🔄 Enhanced index rebuilding...\")\n",
    "    # Simulate enhanced index rebuild with proper paths\n",
    "    # corpus_path = NOTEBOOK_DIR / \"data\" / \"corpus.jsonl\"\n",
    "    # index_path = NOTEBOOK_DIR / \"data\" / \"enhanced_index\"\n",
    "    time.sleep(0.15)\n",
    "    print(\"✅ Enhanced index rebuilt with metadata\")\n",
    "else:\n",
    "    print(\"📂 Using existing enhanced index\")\n",
    "\n",
    "# Enhanced chunk retrieval with metadata\n",
    "chunks = []\n",
    "if return_chunks or return_answer:\n",
    "    print(\"📋 Enhanced chunk retrieval...\")\n",
    "    chunks = [\n",
    "        {\n",
    "            \"text\": f\"Enhanced chunk 1 for '{query}' with semantic analysis\",\n",
    "            \"score\": 0.95,\n",
    "            \"source\": \"doc_1\",\n",
    "            \"metadata\": {\"type\": \"semantic\", \"relevance\": \"high\"}\n",
    "        },\n",
    "        {\n",
    "            \"text\": f\"Enhanced chunk 2 for '{query}' with contextual embedding\", \n",
    "            \"score\": 0.87,\n",
    "            \"source\": \"doc_2\",\n",
    "            \"metadata\": {\"type\": \"contextual\", \"relevance\": \"medium\"}\n",
    "        },\n",
    "        {\n",
    "            \"text\": f\"Enhanced chunk 3 for '{query}' with cross-reference data\",\n",
    "            \"score\": 0.82,\n",
    "            \"source\": \"doc_3\", \n",
    "            \"metadata\": {\"type\": \"reference\", \"relevance\": \"medium\"}\n",
    "        }\n",
    "    ]\n",
    "    print(f\"✅ Retrieved {len(chunks)} enhanced chunks with metadata\")\n",
    "\n",
    "# Enhanced answer generation\n",
    "answer_text = None\n",
    "if return_answer:\n",
    "    print(\"🤖 Enhanced answer generation...\")\n",
    "    answer_text = f\"MCP-TWO: Enhanced analysis for '{query}' using advanced semantic processing and cross-referencing.\"\n",
    "    print(f\"✅ Generated enhanced answer: {answer_text[:50]}...\")\n",
    "\n",
    "# Enhanced metrics\n",
    "processing_time = 0.08\n",
    "confidence_score = 0.92 if return_answer else None\n",
    "capabilities = [\"semantic_search\", \"metadata_analysis\", \"cross_referencing\"]"
   ]
  },
  {
   "cell_type": "markdown",
   "id": "3f78c56c",
   "metadata": {},
   "source": [
    "## MCP Output Publishing\n",
    "\n",
    "Standardized output format for MCP tool integration and LLM consumption."
   ]
  },
  {
   "cell_type": "code",
   "execution_count": null,
   "id": "f05f5b72",
   "metadata": {},
   "outputs": [],
   "source": [
    "# --- MCP-Compatible Output Publishing ---\n",
    "import scrapbook as sb\n",
    "\n",
    "# Build enhanced data object\n",
    "data = {\n",
    "    \"version\": pipeline_version,\n",
    "    \"metrics\": {\n",
    "        \"query_length\": len(query),\n",
    "        \"confidence\": confidence_score,\n",
    "        \"processing_time\": processing_time,\n",
    "        \"method\": \"enhanced_semantic_search\",\n",
    "        \"chunks_retrieved\": len(chunks) if chunks else 0\n",
    "    },\n",
    "    \"capabilities\": capabilities\n",
    "}\n",
    "\n",
    "# Add conditional outputs based on parameters\n",
    "if return_answer and answer_text:\n",
    "    data[\"answer\"] = answer_text\n",
    "\n",
    "if return_chunks and chunks:\n",
    "    data[\"chunks\"] = chunks\n",
    "\n",
    "# Output single data field\n",
    "sb.glue(\"data\", data)\n",
    "\n",
    "print(\"📦 Enhanced MCP outputs published\")\n",
    "print(f\"🚀 Data structure: {list(data.keys())}\")\n",
    "print(\"✅ Ready for advanced MCP orchestration\")"
   ]
  }
 ],
 "metadata": {
  "kernelspec": {
   "display_name": "Python 3",
   "language": "python",
   "name": "python3"
  },
  "language_info": {
   "name": "python",
   "version": "3.13.3"
  }
 },
 "nbformat": 4,
 "nbformat_minor": 5
}
