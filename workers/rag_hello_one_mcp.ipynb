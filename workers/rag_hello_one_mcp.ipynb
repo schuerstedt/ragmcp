{
 "cells": [
  {
   "cell_type": "markdown",
   "id": "0b121cf4",
   "metadata": {},
   "source": [
    "# RAG Worker One - MCP Compatible\n",
    "\n",
    "This notebook is designed to work with the MCP RAG orchestrator.\n",
    "It processes queries and returns results via scrapbook, optimized for MCP tool calling."
   ]
  },
  {
   "cell_type": "code",
   "execution_count": null,
   "id": "b2e0fec1",
   "metadata": {
    "tags": [
     "parameters"
    ]
   },
   "outputs": [],
   "source": [
    "# --- MCP Parameters (Papermill injection point) ---\n",
    "query = \"hello one\"\n",
    "return_chunks = False\n",
    "return_answer = True\n",
    "reindex = False\n",
    "pipeline_version = \"one@mcp\""
   ]
  },
  {
   "cell_type": "markdown",
   "id": "55c67a96",
   "metadata": {},
   "source": [
    "## RAG Processing - Method One\n",
    "\n",
    "Simple demonstration RAG implementation focusing on clear MCP-compatible outputs."
   ]
  },
  {
   "cell_type": "code",
   "execution_count": null,
   "id": "65ca7c32",
   "metadata": {},
   "outputs": [],
   "source": [
    "# --- RAG Implementation One ---\n",
    "import time\n",
    "from pathlib import Path\n",
    "\n",
    "# Get the base directory for relative paths\n",
    "NOTEBOOK_DIR = Path.cwd()  # For regular Jupyter\n",
    "# Alternative for environments where __file__ is available:\n",
    "# NOTEBOOK_DIR = Path(__file__).parent if '__file__' in globals() else Path.cwd()\n",
    "\n",
    "print(f\"🔍 Worker One processing: '{query}'\")\n",
    "print(f\"📋 Pipeline version: {pipeline_version}\")\n",
    "print(f\"🎛️ Return chunks: {return_chunks}, Return answer: {return_answer}\")\n",
    "print(f\"🔄 Reindex: {reindex}\")\n",
    "print(f\"📁 Working directory: {NOTEBOOK_DIR}\")\n",
    "\n",
    "# Handle reindexing if requested\n",
    "if reindex:\n",
    "    print(\"🔄 Rebuilding index...\")\n",
    "    # Simulate index rebuild with proper paths\n",
    "    # corpus_path = NOTEBOOK_DIR / \"data\" / \"corpus.jsonl\"\n",
    "    # index_path = NOTEBOOK_DIR / \"data\" / \"vector_index\"\n",
    "    time.sleep(0.1)\n",
    "    print(\"✅ Index rebuilt\")\n",
    "else:\n",
    "    print(\"📂 Using existing index\")\n",
    "\n",
    "# Simulate chunk retrieval if needed\n",
    "chunks = []\n",
    "if return_chunks or return_answer:\n",
    "    print(\"📋 Retrieving chunks...\")\n",
    "    chunks = [\n",
    "        f\"Chunk 1 for '{query}' - basic semantic match\",\n",
    "        f\"Chunk 2 for '{query}' - contextual information\", \n",
    "        f\"Chunk 3 for '{query}' - related concepts\"\n",
    "    ]\n",
    "    print(f\"✅ Retrieved {len(chunks)} chunks\")\n",
    "\n",
    "# Simulate answer generation if needed\n",
    "answer_text = None\n",
    "if return_answer:\n",
    "    print(\"🤖 Generating answer...\")\n",
    "    answer_text = f\"MCP-ONE: This is a generated answer for '{query}' based on retrieved context.\"\n",
    "    print(f\"✅ Generated answer: {answer_text[:50]}...\")\n",
    "\n",
    "# Collect metrics\n",
    "processing_time = 0.12\n",
    "confidence_score = 0.85 if return_answer else None"
   ]
  },
  {
   "cell_type": "markdown",
   "id": "e7df4dc5",
   "metadata": {},
   "source": [
    "## MCP Output Publishing\n",
    "\n",
    "Package results in MCP-friendly format for tool calling interfaces."
   ]
  },
  {
   "cell_type": "code",
   "execution_count": null,
   "id": "c6ef1e12",
   "metadata": {},
   "outputs": [],
   "source": [
    "# --- MCP-Compatible Output Publishing ---\n",
    "import scrapbook as sb\n",
    "\n",
    "# Build flexible data object\n",
    "data = {\n",
    "    \"version\": pipeline_version,\n",
    "    \"metrics\": {\n",
    "        \"query_length\": len(query),\n",
    "        \"confidence\": confidence_score,\n",
    "        \"processing_time\": processing_time,\n",
    "        \"method\": \"semantic_search_demo\",\n",
    "        \"chunks_retrieved\": len(chunks) if chunks else 0\n",
    "    }\n",
    "}\n",
    "\n",
    "# Add conditional outputs based on parameters\n",
    "if return_answer and answer_text:\n",
    "    data[\"answer\"] = answer_text\n",
    "\n",
    "if return_chunks and chunks:\n",
    "    data[\"chunks\"] = chunks\n",
    "\n",
    "# Output single data field\n",
    "sb.glue(\"data\", data)\n",
    "\n",
    "print(\"📦 MCP outputs published via scrapbook\")\n",
    "print(f\"🔧 Data structure: {list(data.keys())}\")\n",
    "print(\"✅ Ready for MCP tool consumption\")"
   ]
  }
 ],
 "metadata": {
  "kernelspec": {
   "display_name": "Python 3",
   "language": "python",
   "name": "python3"
  },
  "language_info": {
   "codemirror_mode": {
    "name": "ipython",
    "version": 3
   },
   "file_extension": ".py",
   "mimetype": "text/x-python",
   "name": "python",
   "nbconvert_exporter": "python",
   "pygments_lexer": "ipython3",
   "version": "3.13.3"
  }
 },
 "nbformat": 4,
 "nbformat_minor": 5
}
