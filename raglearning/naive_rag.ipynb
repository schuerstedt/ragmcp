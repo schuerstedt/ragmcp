{
  "cells": [
    {
      "cell_type": "markdown",
      "metadata": {
        "id": "h3Crc_qvjnc3"
      },
      "source": [
        "# **Naive RAG**\n",
        "The Naive RAG is the simplest technique in the RAG ecosystem, providing a straightforward approach to combining retrieved data with LLM models for efficient user responses.\n",
        "\n",
        "Research Paper: [RAG](https://arxiv.org/pdf/2005.11401)"
      ]
    },
    {
      "cell_type": "markdown",
      "metadata": {},
      "source": [
        "# **📚 Notebook Summary & Step-by-Step Guide** \n",
        "\n",
        "## **🎯 What This Notebook Does**\n",
        "This notebook implements a **Naive RAG (Retrieval Augmented Generation)** system using Azure OpenAI and FAISS. It demonstrates how to:\n",
        "- Load and process CSV data into a vector database\n",
        "- Perform semantic search on documents\n",
        "- Generate AI responses based on retrieved context\n",
        "- Handle Windows encoding issues and Azure OpenAI rate limits\n",
        "\n",
        "## **🔧 Key Libraries & Their Roles**\n",
        "\n",
        "### **Core RAG Libraries**\n",
        "- **`langchain`** - Main orchestration framework for RAG pipelines\n",
        "- **`langchain-community`** - Extended components (CSV loader, FAISS integration)\n",
        "- **`langchain-openai`** - Azure OpenAI integration for embeddings and chat\n",
        "\n",
        "### **Vector Storage & Search**\n",
        "- **`faiss-cpu`** - Facebook AI Similarity Search - fast vector similarity search\n",
        "- **`pandas`** - Data manipulation and CSV handling (fallback option)\n",
        "\n",
        "### **Azure OpenAI Components**\n",
        "- **`AzureOpenAIEmbeddings`** - Converts text to 1536-dimensional vectors\n",
        "- **`AzureChatOpenAI`** - GPT-4o-mini for generating responses\n",
        "\n",
        "### **Document Processing**\n",
        "- **`CSVLoader`** - Loads CSV files into LangChain Document format\n",
        "- **`RecursiveCharacterTextSplitter`** - Splits large documents into chunks\n",
        "\n",
        "## **📋 Step-by-Step Process**\n",
        "\n",
        "### **Step 1: Environment Setup**\n",
        "- Configure Azure OpenAI credentials (API key, endpoint, version)\n",
        "- Set up local development environment (Windows compatibility)\n",
        "\n",
        "### **Step 2: Document Loading & Processing**\n",
        "- Load CSV data using `CSVLoader` with UTF-8 encoding (Windows fix)\n",
        "- Limit documents to 20 to avoid Azure rate limits\n",
        "- Split documents into 500-character chunks for better retrieval\n",
        "\n",
        "### **Step 3: Vector Database Creation**\n",
        "- Convert document chunks to embeddings using Azure OpenAI `text-embedding-ada-002`\n",
        "- Store embeddings in FAISS in-memory vector database\n",
        "- Explore vectorstore structure for educational understanding\n",
        "\n",
        "### **Step 4: RAG Pipeline Setup**\n",
        "- Create retriever from FAISS vectorstore\n",
        "- Set up Azure ChatGPT (gpt-4o-mini) for response generation\n",
        "- Build RAG chain: Query → Retrieve Context → Generate Response\n",
        "\n",
        "### **Step 5: Testing & Validation**\n",
        "- Test with targeted questions about document content\n",
        "- Demonstrate how similarity search finds relevant context\n",
        "- Show end-to-end RAG response generation\n",
        "\n",
        "### **Step 6: Evaluation Preparation**\n",
        "- Structure data for evaluation frameworks\n",
        "- Prepare datasets for quality assessment (Athina AI integration commented out)\n",
        "\n",
        "## **🚀 Key Innovations in This Implementation**\n",
        "- **Windows Compatibility**: UTF-8 encoding fix for Unicode issues\n",
        "- **Rate Limit Management**: Document limiting to prevent Azure quota exhaustion  \n",
        "- **Educational Features**: Vectorstore exploration for learning purposes\n",
        "- **Azure Integration**: Full Azure OpenAI stack instead of standard OpenAI\n",
        "- **Error Handling**: Robust fallback mechanisms and debugging\n",
        "\n",
        "## **💡 Learning Outcomes**\n",
        "Students will understand:\n",
        "- How text becomes vectors and enables semantic search\n",
        "- The role of each component in the RAG pipeline\n",
        "- Practical considerations for production deployment\n",
        "- Azure OpenAI integration and configuration\n",
        "- Vector database concepts and similarity search"
      ]
    },
    {
      "cell_type": "markdown",
      "metadata": {
        "id": "ZQuZ2ARQks63"
      },
      "source": [
        "## **Initial Setup**"
      ]
    },
    {
      "cell_type": "code",
      "execution_count": 2,
      "metadata": {
        "id": "XktcxUHHi0FF"
      },
      "outputs": [
        {
          "name": "stdout",
          "output_type": "stream",
          "text": [
            "Requirement already satisfied: langchain in c:\\users\\marcu\\appdata\\local\\programs\\python\\python313\\lib\\site-packages (0.3.27)\n",
            "Requirement already satisfied: langchain-community in c:\\users\\marcu\\appdata\\local\\programs\\python\\python313\\lib\\site-packages (0.3.27)\n",
            "Requirement already satisfied: langchain-openai in c:\\users\\marcu\\appdata\\local\\programs\\python\\python313\\lib\\site-packages (0.3.28)\n",
            "Requirement already satisfied: langchain-core<1.0.0,>=0.3.72 in c:\\users\\marcu\\appdata\\local\\programs\\python\\python313\\lib\\site-packages (from langchain) (0.3.72)\n",
            "Requirement already satisfied: langchain-text-splitters<1.0.0,>=0.3.9 in c:\\users\\marcu\\appdata\\local\\programs\\python\\python313\\lib\\site-packages (from langchain) (0.3.9)\n",
            "Requirement already satisfied: langsmith>=0.1.17 in c:\\users\\marcu\\appdata\\local\\programs\\python\\python313\\lib\\site-packages (from langchain) (0.4.8)\n",
            "Requirement already satisfied: pydantic<3.0.0,>=2.7.4 in c:\\users\\marcu\\appdata\\local\\programs\\python\\python313\\lib\\site-packages (from langchain) (2.11.7)\n",
            "Requirement already satisfied: SQLAlchemy<3,>=1.4 in c:\\users\\marcu\\appdata\\local\\programs\\python\\python313\\lib\\site-packages (from langchain) (2.0.41)\n",
            "Requirement already satisfied: requests<3,>=2 in c:\\users\\marcu\\appdata\\local\\programs\\python\\python313\\lib\\site-packages (from langchain) (2.32.3)\n",
            "Requirement already satisfied: PyYAML>=5.3 in c:\\users\\marcu\\appdata\\local\\programs\\python\\python313\\lib\\site-packages (from langchain) (6.0.2)\n",
            "Requirement already satisfied: tenacity!=8.4.0,<10.0.0,>=8.1.0 in c:\\users\\marcu\\appdata\\local\\programs\\python\\python313\\lib\\site-packages (from langchain-core<1.0.0,>=0.3.72->langchain) (9.1.2)\n",
            "Requirement already satisfied: jsonpatch<2.0,>=1.33 in c:\\users\\marcu\\appdata\\local\\programs\\python\\python313\\lib\\site-packages (from langchain-core<1.0.0,>=0.3.72->langchain) (1.33)\n",
            "Requirement already satisfied: typing-extensions>=4.7 in c:\\users\\marcu\\appdata\\local\\programs\\python\\python313\\lib\\site-packages (from langchain-core<1.0.0,>=0.3.72->langchain) (4.13.1)\n",
            "Requirement already satisfied: packaging>=23.2 in c:\\users\\marcu\\appdata\\local\\programs\\python\\python313\\lib\\site-packages (from langchain-core<1.0.0,>=0.3.72->langchain) (25.0)\n",
            "Requirement already satisfied: jsonpointer>=1.9 in c:\\users\\marcu\\appdata\\local\\programs\\python\\python313\\lib\\site-packages (from jsonpatch<2.0,>=1.33->langchain-core<1.0.0,>=0.3.72->langchain) (3.0.0)\n",
            "Requirement already satisfied: annotated-types>=0.6.0 in c:\\users\\marcu\\appdata\\local\\programs\\python\\python313\\lib\\site-packages (from pydantic<3.0.0,>=2.7.4->langchain) (0.7.0)\n",
            "Requirement already satisfied: pydantic-core==2.33.2 in c:\\users\\marcu\\appdata\\local\\programs\\python\\python313\\lib\\site-packages (from pydantic<3.0.0,>=2.7.4->langchain) (2.33.2)\n",
            "Requirement already satisfied: typing-inspection>=0.4.0 in c:\\users\\marcu\\appdata\\local\\programs\\python\\python313\\lib\\site-packages (from pydantic<3.0.0,>=2.7.4->langchain) (0.4.1)\n",
            "Requirement already satisfied: charset-normalizer<4,>=2 in c:\\users\\marcu\\appdata\\local\\programs\\python\\python313\\lib\\site-packages (from requests<3,>=2->langchain) (3.4.1)\n",
            "Requirement already satisfied: idna<4,>=2.5 in c:\\users\\marcu\\appdata\\local\\programs\\python\\python313\\lib\\site-packages (from requests<3,>=2->langchain) (3.10)\n",
            "Requirement already satisfied: urllib3<3,>=1.21.1 in c:\\users\\marcu\\appdata\\local\\programs\\python\\python313\\lib\\site-packages (from requests<3,>=2->langchain) (2.4.0)\n",
            "Requirement already satisfied: certifi>=2017.4.17 in c:\\users\\marcu\\appdata\\local\\programs\\python\\python313\\lib\\site-packages (from requests<3,>=2->langchain) (2025.4.26)\n",
            "Requirement already satisfied: greenlet>=1 in c:\\users\\marcu\\appdata\\local\\programs\\python\\python313\\lib\\site-packages (from SQLAlchemy<3,>=1.4->langchain) (3.2.1)\n",
            "Requirement already satisfied: aiohttp<4.0.0,>=3.8.3 in c:\\users\\marcu\\appdata\\local\\programs\\python\\python313\\lib\\site-packages (from langchain-community) (3.12.13)\n",
            "Requirement already satisfied: dataclasses-json<0.7,>=0.5.7 in c:\\users\\marcu\\appdata\\local\\programs\\python\\python313\\lib\\site-packages (from langchain-community) (0.6.7)\n",
            "Requirement already satisfied: pydantic-settings<3.0.0,>=2.4.0 in c:\\users\\marcu\\appdata\\local\\programs\\python\\python313\\lib\\site-packages (from langchain-community) (2.10.1)\n",
            "Requirement already satisfied: httpx-sse<1.0.0,>=0.4.0 in c:\\users\\marcu\\appdata\\local\\programs\\python\\python313\\lib\\site-packages (from langchain-community) (0.4.1)\n",
            "Requirement already satisfied: numpy>=2.1.0 in c:\\users\\marcu\\appdata\\local\\programs\\python\\python313\\lib\\site-packages (from langchain-community) (2.2.4)\n",
            "Requirement already satisfied: aiohappyeyeballs>=2.5.0 in c:\\users\\marcu\\appdata\\local\\programs\\python\\python313\\lib\\site-packages (from aiohttp<4.0.0,>=3.8.3->langchain-community) (2.6.1)\n",
            "Requirement already satisfied: aiosignal>=1.1.2 in c:\\users\\marcu\\appdata\\local\\programs\\python\\python313\\lib\\site-packages (from aiohttp<4.0.0,>=3.8.3->langchain-community) (1.3.2)\n",
            "Requirement already satisfied: attrs>=17.3.0 in c:\\users\\marcu\\appdata\\local\\programs\\python\\python313\\lib\\site-packages (from aiohttp<4.0.0,>=3.8.3->langchain-community) (25.3.0)\n",
            "Requirement already satisfied: frozenlist>=1.1.1 in c:\\users\\marcu\\appdata\\local\\programs\\python\\python313\\lib\\site-packages (from aiohttp<4.0.0,>=3.8.3->langchain-community) (1.7.0)\n",
            "Requirement already satisfied: multidict<7.0,>=4.5 in c:\\users\\marcu\\appdata\\local\\programs\\python\\python313\\lib\\site-packages (from aiohttp<4.0.0,>=3.8.3->langchain-community) (6.5.0)\n",
            "Requirement already satisfied: propcache>=0.2.0 in c:\\users\\marcu\\appdata\\local\\programs\\python\\python313\\lib\\site-packages (from aiohttp<4.0.0,>=3.8.3->langchain-community) (0.3.2)\n",
            "Requirement already satisfied: yarl<2.0,>=1.17.0 in c:\\users\\marcu\\appdata\\local\\programs\\python\\python313\\lib\\site-packages (from aiohttp<4.0.0,>=3.8.3->langchain-community) (1.20.1)\n",
            "Requirement already satisfied: marshmallow<4.0.0,>=3.18.0 in c:\\users\\marcu\\appdata\\local\\programs\\python\\python313\\lib\\site-packages (from dataclasses-json<0.7,>=0.5.7->langchain-community) (3.26.1)\n",
            "Requirement already satisfied: typing-inspect<1,>=0.4.0 in c:\\users\\marcu\\appdata\\local\\programs\\python\\python313\\lib\\site-packages (from dataclasses-json<0.7,>=0.5.7->langchain-community) (0.9.0)\n",
            "Requirement already satisfied: python-dotenv>=0.21.0 in c:\\users\\marcu\\appdata\\local\\programs\\python\\python313\\lib\\site-packages (from pydantic-settings<3.0.0,>=2.4.0->langchain-community) (1.1.0)\n",
            "Requirement already satisfied: mypy-extensions>=0.3.0 in c:\\users\\marcu\\appdata\\local\\programs\\python\\python313\\lib\\site-packages (from typing-inspect<1,>=0.4.0->dataclasses-json<0.7,>=0.5.7->langchain-community) (1.1.0)\n",
            "Requirement already satisfied: openai<2.0.0,>=1.86.0 in c:\\users\\marcu\\appdata\\local\\programs\\python\\python313\\lib\\site-packages (from langchain-openai) (1.88.0)\n",
            "Requirement already satisfied: tiktoken<1,>=0.7 in c:\\users\\marcu\\appdata\\local\\programs\\python\\python313\\lib\\site-packages (from langchain-openai) (0.9.0)\n",
            "Requirement already satisfied: anyio<5,>=3.5.0 in c:\\users\\marcu\\appdata\\local\\programs\\python\\python313\\lib\\site-packages (from openai<2.0.0,>=1.86.0->langchain-openai) (4.9.0)\n",
            "Requirement already satisfied: distro<2,>=1.7.0 in c:\\users\\marcu\\appdata\\local\\programs\\python\\python313\\lib\\site-packages (from openai<2.0.0,>=1.86.0->langchain-openai) (1.9.0)\n",
            "Requirement already satisfied: httpx<1,>=0.23.0 in c:\\users\\marcu\\appdata\\local\\programs\\python\\python313\\lib\\site-packages (from openai<2.0.0,>=1.86.0->langchain-openai) (0.28.1)\n",
            "Requirement already satisfied: jiter<1,>=0.4.0 in c:\\users\\marcu\\appdata\\local\\programs\\python\\python313\\lib\\site-packages (from openai<2.0.0,>=1.86.0->langchain-openai) (0.10.0)\n",
            "Requirement already satisfied: sniffio in c:\\users\\marcu\\appdata\\local\\programs\\python\\python313\\lib\\site-packages (from openai<2.0.0,>=1.86.0->langchain-openai) (1.3.1)\n",
            "Requirement already satisfied: tqdm>4 in c:\\users\\marcu\\appdata\\local\\programs\\python\\python313\\lib\\site-packages (from openai<2.0.0,>=1.86.0->langchain-openai) (4.67.1)\n",
            "Requirement already satisfied: httpcore==1.* in c:\\users\\marcu\\appdata\\local\\programs\\python\\python313\\lib\\site-packages (from httpx<1,>=0.23.0->openai<2.0.0,>=1.86.0->langchain-openai) (1.0.9)\n",
            "Requirement already satisfied: h11>=0.16 in c:\\users\\marcu\\appdata\\local\\programs\\python\\python313\\lib\\site-packages (from httpcore==1.*->httpx<1,>=0.23.0->openai<2.0.0,>=1.86.0->langchain-openai) (0.16.0)\n",
            "Requirement already satisfied: regex>=2022.1.18 in c:\\users\\marcu\\appdata\\local\\programs\\python\\python313\\lib\\site-packages (from tiktoken<1,>=0.7->langchain-openai) (2024.11.6)\n",
            "Requirement already satisfied: orjson<4.0.0,>=3.9.14 in c:\\users\\marcu\\appdata\\local\\programs\\python\\python313\\lib\\site-packages (from langsmith>=0.1.17->langchain) (3.10.18)\n",
            "Requirement already satisfied: requests-toolbelt<2.0.0,>=1.0.0 in c:\\users\\marcu\\appdata\\local\\programs\\python\\python313\\lib\\site-packages (from langsmith>=0.1.17->langchain) (1.0.0)\n",
            "Requirement already satisfied: zstandard<0.24.0,>=0.23.0 in c:\\users\\marcu\\appdata\\local\\programs\\python\\python313\\lib\\site-packages (from langsmith>=0.1.17->langchain) (0.23.0)\n",
            "Requirement already satisfied: colorama in c:\\users\\marcu\\appdata\\local\\programs\\python\\python313\\lib\\site-packages (from tqdm>4->openai<2.0.0,>=1.86.0->langchain-openai) (0.4.6)\n",
            "Note: you may need to restart the kernel to use updated packages.\n"
          ]
        },
        {
          "name": "stderr",
          "output_type": "stream",
          "text": [
            "\n",
            "[notice] A new release of pip is available: 25.1 -> 25.1.1\n",
            "[notice] To update, run: python.exe -m pip install --upgrade pip\n"
          ]
        }
      ],
      "source": [
        "# ! pip install --q athina langchain-openai\n",
        "%pip install langchain langchain-community langchain-openai"
      ]
    },
    {
      "cell_type": "code",
      "execution_count": 1,
      "metadata": {
        "id": "nAzEvcXulGYW"
      },
      "outputs": [],
      "source": [
        "import os\n",
        "# from google.colab import userdata  # Uncomment if using Google Colab\n",
        "\n",
        "# Azure OpenAI Configuration\n",
        "# For local development, set these environment variables directly or use a .env file\n",
        "os.environ[\"AZURE_OPENAI_API_KEY\"] = os.getenv('AZURE_OPENAI_API_KEY', 'Your_Azure_OpenAI_API_Key_Here')\n",
        "os.environ[\"AZURE_OPENAI_ENDPOINT\"] = os.getenv('AZURE_OPENAI_ENDPOINT', 'https://your-resource-name.openai.azure.com/')\n",
        "os.environ[\"OPENAI_API_VERSION\"] = \"2024-02-01\"  # or your preferred API version\n",
        "\n",
        "# Other API keys (optional)\n",
        "os.environ['ATHINA_API_KEY'] = os.getenv('ATHINA_API_KEY', '')\n",
        "os.environ['PINECONE_API_KEY'] = os.getenv('PINECONE_API_KEY', '')"
      ]
    },
    {
      "cell_type": "markdown",
      "metadata": {
        "id": "BT6jhNgulNV3"
      },
      "source": [
        "## **Indexing**"
      ]
    },
    {
      "cell_type": "code",
      "execution_count": 2,
      "metadata": {
        "id": "DmXqyqQ5lMrk"
      },
      "outputs": [],
      "source": [
        "# load embedding model\n",
        "from langchain_openai import AzureOpenAIEmbeddings\n",
        "embeddings = AzureOpenAIEmbeddings(\n",
        "    model=\"text-embedding-ada-002\",\n",
        "    azure_endpoint=os.environ[\"AZURE_OPENAI_ENDPOINT\"],\n",
        "    api_key=os.environ[\"AZURE_OPENAI_API_KEY\"],\n",
        "    api_version=os.environ[\"OPENAI_API_VERSION\"]\n",
        ")"
      ]
    },
    {
      "cell_type": "code",
      "execution_count": 21,
      "metadata": {},
      "outputs": [
        {
          "name": "stdout",
          "output_type": "stream",
          "text": [
            "Checking if file exists: True\n",
            "Full path: f:\\LernRAG\\rag-cookbooks\\data\\context.csv\n",
            "\n",
            "CSV shape: (232, 1)\n",
            "Columns: ['context']\n",
            "\n",
            "First 3 rows:\n",
            "                                             context\n",
            "0  ['African immigration to the United States ref...\n",
            "1  [\"Discount points, also called mortgage points...\n",
            "2  ['Interlibrary loan (abbreviated ILL, and some...\n",
            "\n",
            "================================================================================\n",
            "FULL CONTENT OF FIRST ROW:\n",
            "================================================================================\n",
            "\n",
            "📄 Column 'context':\n",
            "----------------------------------------\n",
            "['African immigration to the United States refers to immigrants to the United States who are or were nationals of modern African countries. The term African in the scope of this article refers to geographical or national origins rather than racial affiliation. Between the Immigration and Nationality Act of 1965 and 2017, Sub-Saharan African-born population in the United States grew to 2.1 million people.Sub-Saharan Africans in the United States come from almost all regions in Africa and do not constitute a homogeneous group. They include peoples from different national, linguistic, ethnic, racial, cultural and social backgrounds. As such, US and foreign born Sub-Saharan Africans are distinct from native-born African Americans, many of whose ancestors were involuntarily brought from West and Central Africa to the colonial United States by means of the historic Atlantic slave trade. African immigration is now driving the growth of the Black population in New York City.\\n\\n\\n== Immigration legislation ==\\n\\n\\n=== Citizenship ===\\nIn the 1870s, the Naturalization Act was extended to allow \"aliens, being free white persons and to aliens of African nativity and to persons of African descent\" to acquire citizenship. Immigration from Africa was theoretically permitted, unlike non-white immigration from Asia.\\n\\n\\n=== Quotas enacted between 1921 and 1924 ===\\nSeveral laws enforcing national origins quotas on U.S. immigration were enacted between 1921 and 1924 and were in effect until they were repealed in 1965. While the laws were aimed at restricting the immigration of Jews and Catholics from Southern and Eastern Europe and immigration from Asia, they also impacted African immigrants. The legislation effectively excluded Africans from entering the country.\\nThe Emergency Quota Act of 1921 restricted immigration from a given country to 3% of the number of people from that country living in the U.S. according to the census of 1910. The Immigration Act of 1924, also known as the Johnson-Reed Act, reduced that to 2% of the number of people from that country who were already living in the U.S. in 1890. Under the system, the quota for immigrants from Africa (excluding Egypt) totaled 1,100 (the number was increased to 1,400 under the 1952 McCarran–Walter Act.)  That contrasted to immigrants from Germany, which had a limit of 51,227.\\n\\n\\n=== Repeal of quotas ===\\nThe Immigration and Nationality Act of 1965, also known as the Hart-Celler Act, repealed the national quotas and subsequently there was a substantial increase in the number of immigrants from developing countries, particularly in Africa and Asia. This act also provided a separate category for refugees. The act also provided greater opportunity for family reunification.\\n\\n\\n=== Diversity Immigrant Visa ===\\nThe Diversity Visa Program, or green card lottery, is a program created by the Immigration Act of 1990. It allows people born in countries with low rates of immigration to the United States to obtain a lawful permanent resident status. Each year, 50,000 of those visas are distributed at random. Almost 38% of those visas were attributed to African born immigrants in 2016. African born persons also represent the most numerous group among the applicants since 2013. The application is free of charge, and the requirements in terms of education are either a high school diploma or two years of a professional experience requiring at least two years of training.\\n\\n\\n== Recent migration trends and factors ==\\n\\nThe continent of Africa has seen many changes in migrations patterns over the course of history. The graph below shows African immigration to the United States in 2016 based on class of admission with numbers from the Department of Homeland Security\\'s Yearbook.\\nThe influx of African immigrants began in the latter part of the 20th century and is often referred to as the \"fourth great migration.\" About three-fourths of all out-migration from Africa went to the United States after 1990.[7] This trend began after decolonization, as many Africans moved to the U.S. seeking an education and to escape poverty, and has risen steadily over time. The increase in the rate of migration is projected to continue for the coming decades. Originally, these immigrants came with the sole purpose of advancing themselves before returning to their respective countries. Nevertheless, many immigrants never return. In recent'\n",
            " 'many changes in migrations patterns over the course of history. The graph below shows African immigration to the United States in 2016 based on class of admission with numbers from the Department of Homeland Security\\'s Yearbook.\\nThe influx of African immigrants began in the latter part of the 20th century and is often referred to as the \"fourth great migration.\" About three-fourths of all out-migration from Africa went to the United States after 1990.[7] This trend began after decolonization, as many Africans moved to the U.S. seeking an education and to escape poverty, and has risen steadily over time. The increase in the rate of migration is projected to continue for the coming decades. Originally, these immigrants came with the sole purpose of advancing themselves before returning to their respective countries. Nevertheless, many immigrants never return. In recent years there has been an increase in the number of African immigrants interested in gaining permanent residence in the U.S.; this has led to a severe brain drain on the economies of African countries due to many skilled hard-working Africans leaving Africa to seek their economic fortunes in the U.S. and elsewhere.\\nOne major factor that contributes to migration from Africa to the United States is labor opportunities. It has been relatively easier for African immigrants with advanced education to leave and enter international labor markets. In addition, many Africans move to the United States for advanced training. For example, doctors from different African nations would move to the U.S. in order to gain more economic opportunities compared to their home country.[14] However, as more Africans emigrate to the United States, their reasoning and factors tend to become more complex.[15]\\nMany Africans who migrate to the United States return their income to Africa in the source of remittances. In Nigeria, for example, remittances from Nigerians in the United States to Nigeria totaled to $6.1 billion in 2012, approximately 3% of Nigeria\\'s GDP. The important role of remittances in improving the lives of family members in the United States has led to both migration and migrants remaining in the United States.\\nFollowing educational and economic trends of migration, family reunification has driven recent trends of migration. Family reunification refers to the ability of U.S. citizens to sponsor family members for immigration. Sponsoring immediate family members and other family preferences led to 45% and 10% of all African immigration in 2016 respectively. Legal service organizations such as the African Advocacy Network aid in family members sponsoring new immigrants to the United States.Additionally, refugees make up a large class of admission to the United States. Recent crises in the Central African Republic, South Sudan, Nigeria, and Burundi have been sources of migrants in recent years. With recent restrictions on refugee entrance to the United States, refugees may face a harder time entering the United States.\\n\\n\\n== Population ==\\n\\n\\n== Demographics ==\\nThe total immigrant population from Africa estimated for 2015-2019 was 2,256,700. The top counties were:\\n1) Harris County, TX ----------------------------- 70,200\\n2) Los Angeles County, CA ------------------- 59,900\\n3) Bronx Borough, NY --------------------------- 56,000\\n4) Montgomery County, MD ----------------- 54,700\\n5) Hennepin County, MN ---------------------- 53,700\\n6) Prince George\\'s County, MD ------------- 53,000\\n7) Dallas County, TX ----------------------------- 46,700\\n8) King County, WA ------------------------------- 42,500\\n9) Cook County, IL -------------------------------- 42,100\\n10) Franklin County, OH ----------------------- 41,400\\n11) Fairfax County, VA -------------------------- 39,400\\n12) Tarrant County, TX ------------------------- 34,900\\n13) Brooklyn Borough, NY -------------------- 32,500\\n14) Gwinnett County, GA ---------------------- 26,800\\n15) Essex County, NJ --------------------------- 26,700\\n16) Suffolk County, Mass. -------------------- 25,000\\n17) Philadelphia County, PA ----------------- 25,000\\n18) Queens Borough, NY ---------------------- 24,700\\n19) DeKalb County, GA ------------------------- 24,500\\n20) Maricopa County, AZ ---------------------']\n",
            "----------------------------------------\n"
          ]
        }
      ],
      "source": [
        "# Test CSV file reading and show preview\n",
        "import pandas as pd\n",
        "import os\n",
        "\n",
        "csv_path = \"../data/context.csv\"\n",
        "print(f\"Checking if file exists: {os.path.exists(csv_path)}\")\n",
        "print(f\"Full path: {os.path.abspath(csv_path)}\")\n",
        "\n",
        "if os.path.exists(csv_path):\n",
        "    # Read and display CSV content\n",
        "    df_preview = pd.read_csv(csv_path)\n",
        "    print(f\"\\nCSV shape: {df_preview.shape}\")\n",
        "    print(f\"Columns: {list(df_preview.columns)}\")\n",
        "    print(\"\\nFirst 3 rows:\")\n",
        "    print(df_preview.head(3))\n",
        "    \n",
        "    print(f\"\\n\" + \"=\"*80)\n",
        "    print(\"FULL CONTENT OF FIRST ROW:\")\n",
        "    print(\"=\"*80)\n",
        "    if len(df_preview) > 0:\n",
        "        for col in df_preview.columns:\n",
        "            content = str(df_preview[col].iloc[0])\n",
        "            print(f\"\\n📄 Column '{col}':\")\n",
        "            print(\"-\" * 40)\n",
        "            print(content)\n",
        "            print(\"-\" * 40)\n",
        "else:\n",
        "    print(\"❌ CSV file not found at the specified path\")\n",
        "    print(\"Current working directory:\", os.getcwd())\n",
        "    print(\"Files in current directory:\", os.listdir(\".\"))\n",
        "    if os.path.exists(\"../data\"):\n",
        "        print(\"Files in ../data directory:\", os.listdir(\"../data\"))"
      ]
    },
    {
      "cell_type": "code",
      "execution_count": 3,
      "metadata": {
        "id": "lv9mslL9lWdJ"
      },
      "outputs": [
        {
          "name": "stdout",
          "output_type": "stream",
          "text": [
            "Loaded 232 documents from CSV\n",
            "Limited to 20 documents to avoid rate limits\n"
          ]
        }
      ],
      "source": [
        "# load data\n",
        "from langchain_community.document_loaders import CSVLoader\n",
        "\n",
        "# Create CSVLoader with UTF-8 encoding (Windows compatibility)\n",
        "loader = CSVLoader(\n",
        "    file_path=\"../data/context.csv\",\n",
        "    encoding=\"utf-8\"\n",
        ")\n",
        "\n",
        "# Load documents\n",
        "documents = loader.load()\n",
        "print(f\"Loaded {len(documents)} documents from CSV\")\n",
        "\n",
        "# Limit documents to prevent Azure OpenAI rate limits\n",
        "MAX_DOCUMENTS = 20  # Adjust this number based on your rate limits\n",
        "if len(documents) > MAX_DOCUMENTS:\n",
        "    documents = documents[:MAX_DOCUMENTS]\n",
        "    print(f\"Limited to {len(documents)} documents to avoid rate limits\")\n",
        "else:\n",
        "    print(f\"Using all {len(documents)} documents\")"
      ]
    },
    {
      "cell_type": "code",
      "execution_count": 4,
      "metadata": {
        "id": "dzQlFFoWlZj1"
      },
      "outputs": [],
      "source": [
        "# split documents\n",
        "from langchain.text_splitter import RecursiveCharacterTextSplitter\n",
        "text_splitter = RecursiveCharacterTextSplitter(chunk_size=500, chunk_overlap=0)\n",
        "documents = text_splitter.split_documents(documents)"
      ]
    },
    {
      "cell_type": "markdown",
      "metadata": {
        "id": "Wk9-1mcEsPa8"
      },
      "source": [
        "## **Pinecone Vector Database**"
      ]
    },
    {
      "cell_type": "code",
      "execution_count": null,
      "metadata": {
        "id": "oCKff2pOritW"
      },
      "outputs": [],
      "source": [
        "# # initialize pinecone client\n",
        "# from pinecone import Pinecone as PineconeClient, ServerlessSpec\n",
        "# pc = PineconeClient(\n",
        "#     api_key=os.environ.get(\"PINECONE_API_KEY\"),\n",
        "# )"
      ]
    },
    {
      "cell_type": "code",
      "execution_count": null,
      "metadata": {
        "id": "2do7kkOrsZvR"
      },
      "outputs": [],
      "source": [
        "# # create index\n",
        "# pc.create_index(\n",
        "#         name='my-index',\n",
        "#         dimension=1536,\n",
        "#         metric=\"cosine\",\n",
        "#         spec=ServerlessSpec(\n",
        "#             cloud=\"aws\",\n",
        "#             region=\"us-east-1\"\n",
        "#         )\n",
        "#     )"
      ]
    },
    {
      "cell_type": "code",
      "execution_count": null,
      "metadata": {
        "id": "AzqQvvRpsf4l"
      },
      "outputs": [],
      "source": [
        "# # load index\n",
        "# index_name = \"my-index\""
      ]
    },
    {
      "cell_type": "code",
      "execution_count": null,
      "metadata": {
        "id": "G7YSkjF5slji"
      },
      "outputs": [],
      "source": [
        "# # create vectorstore\n",
        "# from langchain.vectorstores import Pinecone\n",
        "# vectorstore = Pinecone.from_documents(\n",
        "#     documents=documents,\n",
        "#     embedding=embeddings,\n",
        "#     index_name=index_name\n",
        "# )"
      ]
    },
    {
      "cell_type": "markdown",
      "metadata": {
        "id": "En1bq6B0srDA"
      },
      "source": [
        "## **FAISS (Optional)**"
      ]
    },
    {
      "cell_type": "code",
      "execution_count": 5,
      "metadata": {
        "id": "l1SQyeIrlcDk"
      },
      "outputs": [],
      "source": [
        "# optional vectorstore\n",
        "#%pip install --q faiss-cpu\n",
        "\n",
        "# create vectorstore\n",
        "from langchain.vectorstores import FAISS\n",
        "vectorstore = FAISS.from_documents(documents, embeddings)"
      ]
    },
    {
      "cell_type": "code",
      "execution_count": 11,
      "metadata": {},
      "outputs": [
        {
          "name": "stdout",
          "output_type": "stream",
          "text": [
            "🔍 EXPLORING THE FAISS VECTORSTORE\n",
            "==================================================\n",
            "📊 Vectorstore Type: <class 'langchain_community.vectorstores.faiss.FAISS'>\n",
            "📊 Number of vectors in index: 320\n",
            "📊 Vector dimension: 1536\n",
            "\n",
            "📄 SAMPLE DOCUMENTS IN VECTORSTORE:\n",
            "----------------------------------------\n",
            "\n",
            "📄 Document 1 (ID: e266eaba-c665-47bd-ba75-604b5c1fb820):\n",
            "   Text preview: context: ['African immigration to the United States refers to immigrants to the United States who are or were nationals of modern African countries. T...\n",
            "   Metadata: {'source': '../data/context.csv', 'row': 0}\n",
            "   Full text length: 500 characters\n",
            "\n",
            "📄 Document 2 (ID: ce540381-e6b6-436b-9630-861c11aa6bcb):\n",
            "   Text preview: do not constitute a homogeneous group. They include peoples from different national, linguistic, ethnic, racial, cultural and social backgrounds. As s...\n",
            "   Metadata: {'source': '../data/context.csv', 'row': 0}\n",
            "   Full text length: 497 characters\n",
            "\n",
            "📄 Document 3 (ID: c9115f6d-bf91-4784-b1ae-ab19f0cb3a9a):\n",
            "   Text preview: Immigration legislation ==\\n\\n\\n=== Citizenship ===\\nIn the 1870s, the Naturalization Act was extended to allow \"aliens, being free white persons and ...\n",
            "   Metadata: {'source': '../data/context.csv', 'row': 0}\n",
            "   Full text length: 496 characters\n",
            "\n",
            "📄 Document 4 (ID: 15987009-8c1c-455a-8e1f-06d92dc0e1bf):\n",
            "   Text preview: effect until they were repealed in 1965. While the laws were aimed at restricting the immigration of Jews and Catholics from Southern and Eastern Euro...\n",
            "   Metadata: {'source': '../data/context.csv', 'row': 0}\n",
            "   Full text length: 497 characters\n",
            "\n",
            "📄 Document 5 (ID: 2b2e500f-8fe8-4ffa-b7ba-4b706c8efa07):\n",
            "   Text preview: also known as the Johnson-Reed Act, reduced that to 2% of the number of people from that country who were already living in the U.S. in 1890. Under th...\n",
            "   Metadata: {'source': '../data/context.csv', 'row': 0}\n",
            "   Full text length: 498 characters\n",
            "\n",
            "🔍 TESTING SIMILARITY SEARCH:\n",
            "----------------------------------------\n",
            "Query: 'World War'\n",
            "Found 3 similar documents:\n",
            "\n",
            "📄 Result 1:\n",
            "   Text: ticket. McCain for comparison was born before World War II and belonged to the Silent Generation. Much like Bob Dole, McCain attempted to counter these charges by releasing all of his medical records,...\n",
            "   Source: ../data/context.csv\n",
            "   Row: 13\n",
            "\n",
            "📄 Result 2:\n",
            "   Text: mathematical'...\n",
            "   Source: ../data/context.csv\n",
            "   Row: 18\n",
            "\n",
            "📄 Result 3:\n",
            "   Text: a second term as president.\\n\\n\\n== Nominations'...\n",
            "   Source: ../data/context.csv\n",
            "   Row: 13\n",
            "\n",
            "🧠 UNDERSTANDING EMBEDDINGS:\n",
            "----------------------------------------\n",
            "Each document is converted to a 1536-dimensional vector using Azure OpenAI\n",
            "FAISS stores these vectors and enables fast similarity search\n",
            "When you query, your question is also converted to a vector\n",
            "FAISS finds the most similar vectors (closest in high-dimensional space)\n",
            "\n",
            "💡 This is how RAG retrieves relevant context for your questions!\n",
            "Query: 'World War'\n",
            "Found 3 similar documents:\n",
            "\n",
            "📄 Result 1:\n",
            "   Text: ticket. McCain for comparison was born before World War II and belonged to the Silent Generation. Much like Bob Dole, McCain attempted to counter these charges by releasing all of his medical records,...\n",
            "   Source: ../data/context.csv\n",
            "   Row: 13\n",
            "\n",
            "📄 Result 2:\n",
            "   Text: mathematical'...\n",
            "   Source: ../data/context.csv\n",
            "   Row: 18\n",
            "\n",
            "📄 Result 3:\n",
            "   Text: a second term as president.\\n\\n\\n== Nominations'...\n",
            "   Source: ../data/context.csv\n",
            "   Row: 13\n",
            "\n",
            "🧠 UNDERSTANDING EMBEDDINGS:\n",
            "----------------------------------------\n",
            "Each document is converted to a 1536-dimensional vector using Azure OpenAI\n",
            "FAISS stores these vectors and enables fast similarity search\n",
            "When you query, your question is also converted to a vector\n",
            "FAISS finds the most similar vectors (closest in high-dimensional space)\n",
            "\n",
            "💡 This is how RAG retrieves relevant context for your questions!\n"
          ]
        }
      ],
      "source": [
        "# Explore the FAISS vectorstore for educational purposes\n",
        "print(\"🔍 EXPLORING THE FAISS VECTORSTORE\")\n",
        "print(\"=\" * 50)\n",
        "\n",
        "# Basic vectorstore information\n",
        "print(f\"📊 Vectorstore Type: {type(vectorstore)}\")\n",
        "print(f\"📊 Number of vectors in index: {vectorstore.index.ntotal}\")\n",
        "print(f\"📊 Vector dimension: {vectorstore.index.d}\")\n",
        "\n",
        "# Show some document texts and their metadata\n",
        "print(f\"\\n📄 SAMPLE DOCUMENTS IN VECTORSTORE:\")\n",
        "print(\"-\" * 40)\n",
        "docstore_dict = vectorstore.docstore._dict\n",
        "sample_docs = list(docstore_dict.items())[:5]  # Show first 5 documents\n",
        "\n",
        "for i, (doc_id, doc) in enumerate(sample_docs):\n",
        "    print(f\"\\n📄 Document {i+1} (ID: {doc_id}):\")\n",
        "    print(f\"   Text preview: {doc.page_content[:150]}...\")\n",
        "    print(f\"   Metadata: {doc.metadata}\")\n",
        "    print(f\"   Full text length: {len(doc.page_content)} characters\")\n",
        "\n",
        "# Test similarity search to show how retrieval works\n",
        "print(f\"\\n🔍 TESTING SIMILARITY SEARCH:\")\n",
        "print(\"-\" * 40)\n",
        "test_query = \"World War\"\n",
        "similar_docs = vectorstore.similarity_search(test_query, k=3)\n",
        "\n",
        "print(f\"Query: '{test_query}'\")\n",
        "print(f\"Found {len(similar_docs)} similar documents:\")\n",
        "\n",
        "for i, doc in enumerate(similar_docs):\n",
        "    print(f\"\\n📄 Result {i+1}:\")\n",
        "    print(f\"   Text: {doc.page_content[:200]}...\")\n",
        "    print(f\"   Source: {doc.metadata.get('source', 'Unknown')}\")\n",
        "    print(f\"   Row: {doc.metadata.get('row', 'N/A')}\")\n",
        "\n",
        "# Show how embeddings work conceptually\n",
        "print(f\"\\n🧠 UNDERSTANDING EMBEDDINGS:\")\n",
        "print(\"-\" * 40)\n",
        "print(\"Each document is converted to a 1536-dimensional vector using Azure OpenAI\")\n",
        "print(\"FAISS stores these vectors and enables fast similarity search\")\n",
        "print(\"When you query, your question is also converted to a vector\")\n",
        "print(\"FAISS finds the most similar vectors (closest in high-dimensional space)\")\n",
        "print(\"\\n💡 This is how RAG retrieves relevant context for your questions!\")"
      ]
    },
    {
      "cell_type": "markdown",
      "metadata": {
        "id": "yHq5hAhZls9s"
      },
      "source": [
        "## **Retriever**"
      ]
    },
    {
      "cell_type": "code",
      "execution_count": 12,
      "metadata": {
        "id": "wazZm3Hzltj0"
      },
      "outputs": [],
      "source": [
        "# create retriever\n",
        "retriever = vectorstore.as_retriever()"
      ]
    },
    {
      "cell_type": "markdown",
      "metadata": {
        "id": "nwDXLi4elyxP"
      },
      "source": [
        "## **RAG Chain**"
      ]
    },
    {
      "cell_type": "code",
      "execution_count": 13,
      "metadata": {
        "id": "KbFmmqZBlzCN"
      },
      "outputs": [],
      "source": [
        "# load llm\n",
        "from langchain_openai import AzureChatOpenAI\n",
        "llm = AzureChatOpenAI(\n",
        "    model=\"gpt-4o-mini\",\n",
        "    azure_endpoint=os.environ[\"AZURE_OPENAI_ENDPOINT\"],\n",
        "    api_key=os.environ[\"AZURE_OPENAI_API_KEY\"],\n",
        "    api_version=os.environ[\"OPENAI_API_VERSION\"],\n",
        "    temperature=0\n",
        ")"
      ]
    },
    {
      "cell_type": "code",
      "execution_count": 14,
      "metadata": {
        "id": "XTbjjl9Ml4JT"
      },
      "outputs": [],
      "source": [
        "# create document chain\n",
        "from langchain.prompts import ChatPromptTemplate\n",
        "from langchain.schema.runnable import RunnablePassthrough\n",
        "from langchain.schema.output_parser import StrOutputParser\n",
        "\n",
        "template = \"\"\"\"\n",
        "You are a helpful assistant that answers questions based on the provided context.\n",
        "Use the provided context to answer the question.\n",
        "Question: {input}\n",
        "Context: {context}\n",
        "Answer:\n",
        "\"\"\"\n",
        "prompt = ChatPromptTemplate.from_template(template)\n",
        "\n",
        "# Setup RAG pipeline\n",
        "rag_chain = (\n",
        "    {\"context\": retriever,  \"input\": RunnablePassthrough()}\n",
        "    | prompt\n",
        "    | llm\n",
        "    | StrOutputParser()\n",
        ")"
      ]
    },
    {
      "cell_type": "code",
      "execution_count": 27,
      "metadata": {
        "colab": {
          "base_uri": "https://localhost:8080/",
          "height": 35
        },
        "id": "KCmVRhwkl-L4",
        "outputId": "013b60e8-79f2-4a34-a6f9-025d22a0040e"
      },
      "outputs": [
        {
          "name": "stdout",
          "output_type": "stream",
          "text": [
            "📄 FIRST DOCUMENT CONTENT:\n",
            "==================================================\n",
            "Content: context: ['African immigration to the United States refers to immigrants to the United States who are or were nationals of modern African countries. The term African in the scope of this article refers to geographical or national origins rather than racial affiliation. Between the Immigration and Nationality Act of 1965 and 2017, Sub-Saharan African-born population in the United States grew to 2.1 million people.Sub-Saharan Africans in the United States come from almost all regions in Africa and do not constitute a homogeneous group. They include peoples from different national, linguistic, ethnic, racial, cultural and social backgrounds. As such, US and foreign born Sub-Saharan Africans are distinct from native-born African Americans, many of whose ancestors were involuntarily brought from West and Central Africa to the colonial United States by means of the historic Atlantic slave trade. African immigration is now driving the growth of the Black population in New York City.\\n\\n\\n== Immigration legislation ==\\n\\n\\n=== Citizenship ===\\nIn the 1870s, the Naturalization Act was extended to allow \"aliens, being free white persons and to aliens of African nativity and to persons of African descent\" to acquire citizenship. Immigration from Africa was theoretically permitted, unlike non-white immigration from Asia.\\n\\n\\n=== Quotas enacted between 1921 and 1924 ===\\nSeveral laws enforcing national origins quotas on U.S. immigration were enacted between 1921 and 1924 and were in effect until they were repealed in 1965. While the laws were aimed at restricting the immigration of Jews and Catholics from Southern and Eastern Europe and immigration from Asia, they also impacted African immigrants. The legislation effectively excluded Africans from entering the country.\\nThe Emergency Quota Act of 1921 restricted immigration from a given country to 3% of the number of people from that country living in the U.S. according to the census of 1910. The Immigration Act of 1924, also known as the Johnson-Reed Act, reduced that to 2% of the number of people from that country who were already living in the U.S. in 1890. Under the system, the quota for immigrants from Africa (excluding Egypt) totaled 1,100 (the number was increased to 1,400 under the 1952 McCarran–Walter Act.)  That contrasted to immigrants from Germany, which had a limit of 51,227.\\n\\n\\n=== Repeal of quotas ===\\nThe Immigration and Nationality Act of 1965, also known as the Hart-Celler Act, repealed the national quotas and subsequently there was a substantial increase in the number of immigrants from developing countries, particularly in Africa and Asia. This act also provided a separate category for refugees. The act also provided greater opportunity for family reunification.\\n\\n\\n=== Diversity Immigrant Visa ===\\nThe Diversity Visa Program, or green card lottery, is a program created by the Immigration Act of 1990. It allows people born in countries with low rates of immigration to the United States to obtain a lawful permanent resident status. Each year, 50,000 of those visas are distributed at random. Almost 38% of those visas were attributed to African born immigrants in 2016. African born persons also represent the most numerous group among the applicants since 2013. The application is free of charge, and the requirements in terms of education are either a high school diploma or two years of a professional experience requiring at least two years of training.\\n\\n\\n== Recent migration trends and factors ==\\n\\nThe continent of Africa has seen many changes in migrations patterns over the course of history. The graph below shows African immigration to the United States in 2016 based on class of admission with numbers from the Department of Homeland Security\\'s Yearbook.\\nThe influx of African immigrants began in the latter part of the 20th century and is often referred to as the \"fourth great migration.\" About three-fourths of all out-migration from Africa went to the United States after 1990.[7] This trend began after decolonization, as many Africans moved to the U.S. seeking an education and to escape poverty, and has risen steadily over time. The increase in the rate of migration is projected to continue for the coming decades. Originally, these immigrants came with the sole purpose of advancing themselves before returning to their respective countries. Nevertheless, many immigrants never return. In recent'\n",
            " 'many changes in migrations patterns over the course of history. The graph below shows African immigration to the United States in 2016 based on class of admission with numbers from the Department of Homeland Security\\'s Yearbook.\\nThe influx of African immigrants began in the latter part of the 20th century and is often referred to as the \"fourth great migration.\" About three-fourths of all out-migration from Africa went to the United States after 1990.[7] This trend began after decolonization, as many Africans moved to the U.S. seeking an education and to escape poverty, and has risen steadily over time. The increase in the rate of migration is projected to continue for the coming decades. Originally, these immigrants came with the sole purpose of advancing themselves before returning to their respective countries. Nevertheless, many immigrants never return. In recent years there has been an increase in the number of African immigrants interested in gaining permanent residence in the U.S.; this has led to a severe brain drain on the economies of African countries due to many skilled hard-working Africans leaving Africa to seek their economic fortunes in the U.S. and elsewhere.\\nOne major factor that contributes to migration from Africa to the United States is labor opportunities. It has been relatively easier for African immigrants with advanced education to leave and enter international labor markets. In addition, many Africans move to the United States for advanced training. For example, doctors from different African nations would move to the U.S. in order to gain more economic opportunities compared to their home country.[14] However, as more Africans emigrate to the United States, their reasoning and factors tend to become more complex.[15]\\nMany Africans who migrate to the United States return their income to Africa in the source of remittances. In Nigeria, for example, remittances from Nigerians in the United States to Nigeria totaled to $6.1 billion in 2012, approximately 3% of Nigeria\\'s GDP. The important role of remittances in improving the lives of family members in the United States has led to both migration and migrants remaining in the United States.\\nFollowing educational and economic trends of migration, family reunification has driven recent trends of migration. Family reunification refers to the ability of U.S. citizens to sponsor family members for immigration. Sponsoring immediate family members and other family preferences led to 45% and 10% of all African immigration in 2016 respectively. Legal service organizations such as the African Advocacy Network aid in family members sponsoring new immigrants to the United States.Additionally, refugees make up a large class of admission to the United States. Recent crises in the Central African Republic, South Sudan, Nigeria, and Burundi have been sources of migrants in recent years. With recent restrictions on refugee entrance to the United States, refugees may face a harder time entering the United States.\\n\\n\\n== Population ==\\n\\n\\n== Demographics ==\\nThe total immigrant population from Africa estimated for 2015-2019 was 2,256,700. The top counties were:\\n1) Harris County, TX ----------------------------- 70,200\\n2) Los Angeles County, CA ------------------- 59,900\\n3) Bronx Borough, NY --------------------------- 56,000\\n4) Montgomery County, MD ----------------- 54,700\\n5) Hennepin County, MN ---------------------- 53,700\\n6) Prince George\\'s County, MD ------------- 53,000\\n7) Dallas County, TX ----------------------------- 46,700\\n8) King County, WA ------------------------------- 42,500\\n9) Cook County, IL -------------------------------- 42,100\\n10) Franklin County, OH ----------------------- 41,400\\n11) Fairfax County, VA -------------------------- 39,400\\n12) Tarrant County, TX ------------------------- 34,900\\n13) Brooklyn Borough, NY -------------------- 32,500\\n14) Gwinnett County, GA ---------------------- 26,800\\n15) Essex County, NJ --------------------------- 26,700\\n16) Suffolk County, Mass. -------------------- 25,000\\n17) Philadelphia County, PA ----------------- 25,000\\n18) Queens Borough, NY ---------------------- 24,700\\n19) DeKalb County, GA ------------------------- 24,500\\n20) Maricopa County, AZ ---------------------']\n",
            "Metadata: {'source': '../data/context.csv', 'row': 0}\n",
            "==================================================\n",
            "\n",
            "🤖 RAG Response:\n",
            "African immigration to the United States refers to individuals who immigrate to the U.S. from modern African countries. This term focuses on geographical or national origins rather than racial identity. Since the Immigration and Nationality Act of 1965, the Sub-Saharan African-born population in the U.S. has grown significantly, reaching approximately 2.1 million by 2017. The influx of African immigrants is often described as the \"fourth great migration,\" which began in the latter part of the 20th century, particularly after 1990, when about three-fourths of all out-migration from Africa was directed towards the United States. Various factors, including legal preferences and refugee crises in countries like the Central African Republic, South Sudan, Nigeria, and Burundi, have influenced recent migration trends.\n",
            "\n",
            "🤖 RAG Response:\n",
            "African immigration to the United States refers to individuals who immigrate to the U.S. from modern African countries. This term focuses on geographical or national origins rather than racial identity. Since the Immigration and Nationality Act of 1965, the Sub-Saharan African-born population in the U.S. has grown significantly, reaching approximately 2.1 million by 2017. The influx of African immigrants is often described as the \"fourth great migration,\" which began in the latter part of the 20th century, particularly after 1990, when about three-fourths of all out-migration from Africa was directed towards the United States. Various factors, including legal preferences and refugee crises in countries like the Central African Republic, South Sudan, Nigeria, and Burundi, have influenced recent migration trends.\n"
          ]
        }
      ],
      "source": [
        "# Let's first examine the first document to create a targeted question\n",
        "print(\"📄 FIRST DOCUMENT CONTENT:\")\n",
        "print(\"=\" * 50)\n",
        "first_doc = documents[0]  # Get the first document after splitting\n",
        "print(f\"Content: {first_doc.page_content}\")\n",
        "print(f\"Metadata: {first_doc.metadata}\")\n",
        "print(\"=\" * 50)\n",
        "\n",
        "# Based on the first document content, ask a targeted question\n",
        "# This question should retrieve the first document as the most relevant context\n",
        "response = rag_chain.invoke(\"What is African immigration to the United States?\")\n",
        "print(f\"\\n🤖 RAG Response:\")\n",
        "print(response)"
      ]
    },
    {
      "cell_type": "markdown",
      "metadata": {
        "id": "ydmLJTKcmN-L"
      },
      "source": [
        "## **Preparing Data for Evaluation**"
      ]
    },
    {
      "cell_type": "code",
      "execution_count": 28,
      "metadata": {
        "id": "8mYI56TXmNMo"
      },
      "outputs": [],
      "source": [
        "# create dataset\n",
        "question = [\"What is African immigration to the United States?\"]\n",
        "response = []\n",
        "contexts = []\n",
        "\n",
        "# Inference\n",
        "for query in question:\n",
        "  response.append(rag_chain.invoke(query))\n",
        "  contexts.append([docs.page_content for docs in retriever.get_relevant_documents(query)])\n",
        "\n",
        "# To dict\n",
        "data = {\n",
        "    \"query\": question,\n",
        "    \"response\": response,\n",
        "    \"context\": contexts,\n",
        "}"
      ]
    },
    {
      "cell_type": "code",
      "execution_count": 29,
      "metadata": {
        "id": "fsvXVMDZmlYC"
      },
      "outputs": [],
      "source": [
        "# create dataset\n",
        "from datasets import Dataset\n",
        "dataset = Dataset.from_dict(data)"
      ]
    },
    {
      "cell_type": "code",
      "execution_count": 30,
      "metadata": {
        "id": "c6ENh8IImn8X"
      },
      "outputs": [],
      "source": [
        "# create dataframe\n",
        "import pandas as pd\n",
        "df = pd.DataFrame(dataset)"
      ]
    },
    {
      "cell_type": "code",
      "execution_count": 31,
      "metadata": {
        "colab": {
          "base_uri": "https://localhost:8080/",
          "height": 89
        },
        "id": "jbBOytBzmp03",
        "outputId": "295f18de-9923-4a49-8c0c-4fa950620a79"
      },
      "outputs": [
        {
          "data": {
            "text/html": [
              "<div>\n",
              "<style scoped>\n",
              "    .dataframe tbody tr th:only-of-type {\n",
              "        vertical-align: middle;\n",
              "    }\n",
              "\n",
              "    .dataframe tbody tr th {\n",
              "        vertical-align: top;\n",
              "    }\n",
              "\n",
              "    .dataframe thead th {\n",
              "        text-align: right;\n",
              "    }\n",
              "</style>\n",
              "<table border=\"1\" class=\"dataframe\">\n",
              "  <thead>\n",
              "    <tr style=\"text-align: right;\">\n",
              "      <th></th>\n",
              "      <th>query</th>\n",
              "      <th>response</th>\n",
              "      <th>context</th>\n",
              "    </tr>\n",
              "  </thead>\n",
              "  <tbody>\n",
              "    <tr>\n",
              "      <th>0</th>\n",
              "      <td>What is African immigration to the United States?</td>\n",
              "      <td>African immigration to the United States refer...</td>\n",
              "      <td>[context: ['African immigration to the United ...</td>\n",
              "    </tr>\n",
              "  </tbody>\n",
              "</table>\n",
              "</div>"
            ],
            "text/plain": [
              "                                               query  \\\n",
              "0  What is African immigration to the United States?   \n",
              "\n",
              "                                            response  \\\n",
              "0  African immigration to the United States refer...   \n",
              "\n",
              "                                             context  \n",
              "0  [context: ['African immigration to the United ...  "
            ]
          },
          "execution_count": 31,
          "metadata": {},
          "output_type": "execute_result"
        }
      ],
      "source": [
        "df"
      ]
    },
    {
      "cell_type": "code",
      "execution_count": 20,
      "metadata": {
        "id": "qRQUgNeemx1S"
      },
      "outputs": [],
      "source": [
        "# Convert to dictionary\n",
        "df_dict = df.to_dict(orient='records')\n",
        "\n",
        "# Convert context to list\n",
        "for record in df_dict:\n",
        "    if not isinstance(record.get('context'), list):\n",
        "        if record.get('context') is None:\n",
        "            record['context'] = []\n",
        "        else:\n",
        "            record['context'] = [record['context']]"
      ]
    },
    {
      "cell_type": "markdown",
      "metadata": {
        "id": "-r2bDl3-m0UU"
      },
      "source": [
        "## **Evaluation in Athina AI**\n",
        "\n",
        "We will use **Does Response Answer Query** eval here. It Checks if the response answer the user's query. To learn more about this. Please refer to our [documentation](https://docs.athina.ai/api-reference/evals/preset-evals/overview) for further details."
      ]
    },
    {
      "cell_type": "code",
      "execution_count": null,
      "metadata": {
        "id": "rZJLIyV0m1As"
      },
      "outputs": [],
      "source": [
        "# # set api keys for Athina evals\n",
        "# from athina.keys import AthinaApiKey, OpenAiApiKey\n",
        "# OpenAiApiKey.set_key(os.getenv('OPENAI_API_KEY'))\n",
        "# AthinaApiKey.set_key(os.getenv('ATHINA_API_KEY'))"
      ]
    },
    {
      "cell_type": "code",
      "execution_count": null,
      "metadata": {
        "id": "8hKmTTy9m4mh"
      },
      "outputs": [],
      "source": [
        "# # load dataset\n",
        "# from athina.loaders import Loader\n",
        "# dataset = Loader().load_dict(df_dict)"
      ]
    },
    {
      "cell_type": "code",
      "execution_count": null,
      "metadata": {
        "colab": {
          "base_uri": "https://localhost:8080/",
          "height": 254
        },
        "id": "_c6tIOXXm6rC",
        "outputId": "9d4af1ae-6a35-4093-9b14-50c0ee13863b"
      },
      "outputs": [],
      "source": [
        "# # evaluate\n",
        "# from athina.evals import DoesResponseAnswerQuery\n",
        "# DoesResponseAnswerQuery(model=\"gpt-4o\").run_batch(data=dataset).to_df()"
      ]
    }
  ],
  "metadata": {
    "colab": {
      "provenance": []
    },
    "kernelspec": {
      "display_name": "Python 3",
      "name": "python3"
    },
    "language_info": {
      "codemirror_mode": {
        "name": "ipython",
        "version": 3
      },
      "file_extension": ".py",
      "mimetype": "text/x-python",
      "name": "python",
      "nbconvert_exporter": "python",
      "pygments_lexer": "ipython3",
      "version": "3.13.3"
    }
  },
  "nbformat": 4,
  "nbformat_minor": 0
}
