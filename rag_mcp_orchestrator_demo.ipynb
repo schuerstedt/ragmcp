{
 "cells": [
  {
   "cell_type": "markdown",
   "id": "54c55106",
   "metadata": {},
   "source": [
    "# RAG + MCP Demo - Orchestrator Template\n",
    "\n",
    "This notebook demonstrates using MCP (Model Context Protocol) to orchestrate RAG workers.\n",
    "\n",
    "**Focus:** Practical usage - how to use FastMCP to coordinate multiple RAG approaches.\n",
    "\n",
    "---"
   ]
  },
  {
   "cell_type": "code",
   "execution_count": 1,
   "id": "64de47d7",
   "metadata": {},
   "outputs": [],
   "source": [
    "# Setup: Import required libraries\n",
    "import asyncio\n",
    "import json\n",
    "\n",
    "# FastMCP for client connection\n",
    "from fastmcp import Client\n"
   ]
  },
  {
   "cell_type": "markdown",
   "id": "243f5b28",
   "metadata": {},
   "source": [
    "## Import MCP Server\n",
    "\n",
    "Import the server from `server.py` to reuse the same logic."
   ]
  },
  {
   "cell_type": "code",
   "execution_count": 3,
   "id": "e22f7c76",
   "metadata": {},
   "outputs": [
    {
     "name": "stdout",
     "output_type": "stream",
     "text": [
      "[START] Starting server with tool loading...\n",
      "[TOOLS] Looking for tools in: f:\\LernRAG\\ragmcp\\mcptools\n",
      "[SEARCH] Loading tools from: f:\\LernRAG\\ragmcp\\mcptools\n",
      "[OK] Loaded tool definition: list_workers\n",
      "[OK] Loaded tool definition: rag_enhanced_search\n",
      "[OK] Loaded tool definition: rag_learning_search\n",
      "[OK] Loaded tool definition: rag_semantic_search\n",
      "[LOADED] Loaded 4 tool definitions from f:\\LernRAG\\ragmcp\\mcptools\n",
      "[REGISTER] Registered MCP tool: list_workers\n",
      "[REGISTER] Registered MCP tool: rag_enhanced_search\n",
      "[REGISTER] Registered MCP tool: rag_learning_search\n",
      "[REGISTER] Registered MCP tool: rag_semantic_search\n",
      "[SUCCESS] Successfully registered 4 MCP tools\n",
      "[OK] Successfully loaded 4 tools\n",
      "[START] Starting server with tool loading...\n",
      "[TOOLS] Looking for tools in: f:\\LernRAG\\ragmcp\\mcptools\n",
      "[SEARCH] Loading tools from: f:\\LernRAG\\ragmcp\\mcptools\n",
      "[OK] Loaded tool definition: list_workers\n",
      "[OK] Loaded tool definition: rag_enhanced_search\n",
      "[OK] Loaded tool definition: rag_learning_search\n",
      "[OK] Loaded tool definition: rag_semantic_search\n",
      "[LOADED] Loaded 4 tool definitions from f:\\LernRAG\\ragmcp\\mcptools\n",
      "[REGISTER] Registered MCP tool: list_workers\n",
      "[REGISTER] Registered MCP tool: rag_enhanced_search\n",
      "[REGISTER] Registered MCP tool: rag_learning_search\n",
      "[REGISTER] Registered MCP tool: rag_semantic_search\n",
      "[SUCCESS] Successfully registered 4 MCP tools\n",
      "[OK] Successfully loaded 4 tools\n",
      "✅ MCP server imported successfully!\n",
      "📦 Server: rag-notebook-orchestrator\n"
     ]
    }
   ],
   "source": [
    "# 🔧 Import and setup MCP server\n",
    "import server\n",
    "import importlib\n",
    "importlib.reload(server)  # Force reload to get updated code\n",
    "\n",
    "# Access the MCP server instance\n",
    "mcp = server.mcp\n",
    "\n",
    "print(\"✅ MCP server imported successfully!\")\n",
    "print(f\"📦 Server: {mcp.name}\")\n"
   ]
  },
  {
   "cell_type": "markdown",
   "id": "221d33b3",
   "metadata": {},
   "source": [
    "## Connect MCP Client\n",
    "\n",
    "Connect to the imported MCP server using FastMCP's in-memory transport."
   ]
  },
  {
   "cell_type": "code",
   "execution_count": 4,
   "id": "31b37333",
   "metadata": {},
   "outputs": [
    {
     "name": "stdout",
     "output_type": "stream",
     "text": [
      "📦 Available MCP tools:\n",
      "====================================================================================================\n",
      "1. 🔧 Tool: test_tool\n",
      "   📝 Description: Simple test tool to verify server functionality\n",
      "   ⚙️  Input Schema: {'properties': {'message': {'default': 'Hello', 'title': 'Message', 'type': 'string'}}, 'type': 'object'}\n",
      "--------------------------------------------------\n",
      "2. 🔧 Tool: list_workers\n",
      "   📝 Description: Tool: list_workers\n",
      "   ⚙️  Input Schema: {'properties': {'subdir': {'default': 'workers', 'title': 'Subdir', 'type': 'string'}}, 'type': 'object'}\n",
      "--------------------------------------------------\n",
      "3. 🔧 Tool: rag_enhanced_search\n",
      "   📝 Description: Tool: rag_enhanced_search\n",
      "   ⚙️  Input Schema: {'properties': {'query': {'title': 'Query', 'type': 'string'}, 'similarity_threshold': {'default': 0.7, 'title': 'Similarity Threshold', 'type': 'number'}, 'return_chunks': {'default': False, 'title': 'Return Chunks', 'type': 'boolean'}}, 'required': ['query'], 'type': 'object'}\n",
      "--------------------------------------------------\n",
      "4. 🔧 Tool: rag_learning_search\n",
      "   📝 Description: Tool: rag_learning_search\n",
      "   ⚙️  Input Schema: {'properties': {'query': {'title': 'Query', 'type': 'string'}, 'max_results': {'default': 5, 'title': 'Max Results', 'type': 'integer'}}, 'required': ['query'], 'type': 'object'}\n",
      "--------------------------------------------------\n",
      "5. 🔧 Tool: rag_semantic_search\n",
      "   📝 Description: Tool: rag_semantic_search\n",
      "   ⚙️  Input Schema: {'properties': {'query': {'title': 'Query', 'type': 'string'}, 'return_chunks': {'default': False, 'title': 'Return Chunks', 'type': 'boolean'}}, 'required': ['query'], 'type': 'object'}\n",
      "--------------------------------------------------\n",
      "====================================================================================================\n"
     ]
    }
   ],
   "source": [
    "# 📋 List available tools using async context\n",
    "async with Client(mcp) as client:\n",
    "    # List tools\n",
    "    tools = await client.list_tools()\n",
    "    print(\"📦 Available MCP tools:\")\n",
    "    print(\"=\" * 100)  # Visual separator\n",
    "    for i, tool in enumerate(tools, 1):\n",
    "        print(f\"{i}. 🔧 Tool: {tool.name}\")\n",
    "        print(f\"   📝 Description: {tool.description}\")\n",
    "        print(f\"   ⚙️  Input Schema: {tool.inputSchema}\")\n",
    "        print(\"-\" * 50)\n",
    "    print(\"=\" * 100)  # Visual separator"
   ]
  },
  {
   "cell_type": "markdown",
   "id": "c224beee",
   "metadata": {},
   "source": [
    "## Run RAG Demo\n",
    "\n",
    "Execute multiple RAG workers through the MCP interface:"
   ]
  },
  {
   "cell_type": "code",
   "execution_count": 5,
   "id": "56956610",
   "metadata": {},
   "outputs": [
    {
     "name": "stdout",
     "output_type": "stream",
     "text": [
      "🚀 Running RAG demo with query: 'What is machine learning?'\n",
      "💡 Testing both specific RAG tools:\n",
      "\n",
      "🔄 Testing rag_semantic_search...\n",
      "[DEBUG] Executing workers/rag_hello_one_mcp.ipynb with parameters: {'query': 'What is machine learning?', 'return_chunks': False}\n",
      "[DEBUG] Server dir: f:\\LernRAG\\ragmcp\n",
      "[DEBUG] Input notebook: f:\\LernRAG\\ragmcp\\workers\\rag_hello_one_mcp.ipynb\n",
      "[DEBUG] Output notebook: f:\\LernRAG\\ragmcp\\runs\\rag_hello_one_mcp_out.ipynb\n"
     ]
    },
    {
     "data": {
      "application/vnd.jupyter.widget-view+json": {
       "model_id": "f3399e31e8004887946ee65af09fff59",
       "version_major": 2,
       "version_minor": 0
      },
      "text/plain": [
       "Executing:   0%|          | 0/7 [00:00<?, ?cell/s]"
      ]
     },
     "metadata": {},
     "output_type": "display_data"
    },
    {
     "name": "stderr",
     "output_type": "stream",
     "text": [
      "Passed unknown parameter: similarity_threshold\n"
     ]
    },
    {
     "name": "stdout",
     "output_type": "stream",
     "text": [
      "📊 DEBUG: Extracted data: {'answer': \"MCP-ONE: This is a generated answer for 'What is machine learning?' based on retrieved context.\", 'metrics': {'chunks_retrieved': 3, 'confidence': 0.85, 'method': 'semantic_search_demo', 'processing_time': 0.12, 'query_length': 25}, 'version': 'one@mcp'}\n",
      "💾 DEBUG: Executed notebook saved to: f:\\LernRAG\\ragmcp\\runs\\rag_hello_one_mcp_out.ipynb\n",
      "✅ rag_semantic_search completed successfully\n",
      "📝 Answer: N/A\n",
      "🏷️  Version: 1.0\n",
      "\n",
      "🔄 Testing rag_enhanced_search...\n",
      "[DEBUG] Executing workers/rag_hello_two_mcp.ipynb with parameters: {'query': 'What is machine learning?', 'similarity_threshold': 0.7, 'return_chunks': False}\n",
      "[DEBUG] Server dir: f:\\LernRAG\\ragmcp\n",
      "[DEBUG] Input notebook: f:\\LernRAG\\ragmcp\\workers\\rag_hello_two_mcp.ipynb\n",
      "[DEBUG] Output notebook: f:\\LernRAG\\ragmcp\\runs\\rag_hello_two_mcp_out.ipynb\n"
     ]
    },
    {
     "data": {
      "application/vnd.jupyter.widget-view+json": {
       "model_id": "64ee36d8891b4592a6674ae0f54d6ba7",
       "version_major": 2,
       "version_minor": 0
      },
      "text/plain": [
       "Executing:   0%|          | 0/7 [00:00<?, ?cell/s]"
      ]
     },
     "metadata": {},
     "output_type": "display_data"
    },
    {
     "name": "stdout",
     "output_type": "stream",
     "text": [
      "📊 DEBUG: Extracted data: {'answer': \"MCP-TWO: Enhanced analysis for 'What is machine learning?' using advanced semantic processing and cross-referencing.\", 'capabilities': ['semantic_search', 'metadata_analysis', 'cross_referencing'], 'metrics': {'chunks_retrieved': 3, 'confidence': 0.92, 'method': 'enhanced_semantic_search', 'processing_time': 0.08, 'query_length': 25}, 'version': 'two@mcp'}\n",
      "💾 DEBUG: Executed notebook saved to: f:\\LernRAG\\ragmcp\\runs\\rag_hello_two_mcp_out.ipynb\n",
      "✅ rag_enhanced_search completed successfully\n",
      "📝 Answer: N/A\n",
      "🏷️  Version: 2.0\n",
      "\n",
      "✨ MCP RAG tool demonstration complete!\n"
     ]
    }
   ],
   "source": [
    "# Demo: Execute specific RAG tools through MCP interface\n",
    "async with Client(mcp) as client:\n",
    "    \n",
    "    # Test parameters for RAG query\n",
    "    test_query = \"What is machine learning?\"\n",
    "    \n",
    "    print(f\"🚀 Running RAG demo with query: '{test_query}'\")\n",
    "    print(\"💡 Testing both specific RAG tools:\")\n",
    "    \n",
    "    # Test semantic search tool\n",
    "    print(f\"\\n🔄 Testing rag_semantic_search...\")\n",
    "    try:\n",
    "        result = await client.call_tool(\"rag_semantic_search\", {\n",
    "            \"query\": test_query\n",
    "        })\n",
    "        \n",
    "        # Extract results using correct data access\n",
    "        worker_data = result.data\n",
    "        \n",
    "        if worker_data:\n",
    "            print(f\"✅ rag_semantic_search completed successfully\")\n",
    "            print(f\"📝 Answer: {worker_data.get('answer', 'N/A')}\")\n",
    "            if \"metrics\" in worker_data:\n",
    "                print(f\"📈 Metrics: {worker_data['metrics']}\")\n",
    "            if \"version\" in worker_data:\n",
    "                print(f\"🏷️  Version: {worker_data['version']}\")\n",
    "        else:\n",
    "            print(f\"⚠️  rag_semantic_search completed but returned no data\")\n",
    "            \n",
    "    except Exception as e:\n",
    "        print(f\"❌ rag_semantic_search failed: {e}\")\n",
    "        import traceback\n",
    "        traceback.print_exc()\n",
    "    \n",
    "    # Test enhanced search tool\n",
    "    print(f\"\\n🔄 Testing rag_enhanced_search...\")\n",
    "    try:\n",
    "        result = await client.call_tool(\"rag_enhanced_search\", {\n",
    "            \"query\": test_query\n",
    "        })\n",
    "        \n",
    "        # Extract results using correct data access\n",
    "        worker_data = result.data\n",
    "        \n",
    "        if worker_data:\n",
    "            print(f\"✅ rag_enhanced_search completed successfully\")\n",
    "            print(f\"📝 Answer: {worker_data.get('answer', 'N/A')}\")\n",
    "            if \"metrics\" in worker_data:\n",
    "                print(f\"📈 Metrics: {worker_data['metrics']}\")\n",
    "            if \"version\" in worker_data:\n",
    "                print(f\"🏷️  Version: {worker_data['version']}\")\n",
    "        else:\n",
    "            print(f\"⚠️  rag_enhanced_search completed but returned no data\")\n",
    "            \n",
    "    except Exception as e:\n",
    "        print(f\"❌ rag_enhanced_search failed: {e}\")\n",
    "        import traceback\n",
    "        traceback.print_exc()\n",
    "        \n",
    "print(\"\\n✨ MCP RAG tool demonstration complete!\")"
   ]
  }
 ],
 "metadata": {
  "kernelspec": {
   "display_name": "Python 3",
   "language": "python",
   "name": "python3"
  },
  "language_info": {
   "codemirror_mode": {
    "name": "ipython",
    "version": 3
   },
   "file_extension": ".py",
   "mimetype": "text/x-python",
   "name": "python",
   "nbconvert_exporter": "python",
   "pygments_lexer": "ipython3",
   "version": "3.13.3"
  }
 },
 "nbformat": 4,
 "nbformat_minor": 5
}
