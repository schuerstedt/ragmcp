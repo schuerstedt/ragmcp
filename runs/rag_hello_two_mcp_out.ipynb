{
 "cells": [
  {
   "cell_type": "markdown",
   "id": "9c0376d2",
   "metadata": {
    "papermill": {
     "duration": 0.001119,
     "end_time": "2025-08-13T14:03:11.093737",
     "exception": false,
     "start_time": "2025-08-13T14:03:11.092618",
     "status": "completed"
    },
    "tags": []
   },
   "source": [
    "# RAG Worker Two - MCP Compatible\n",
    "\n",
    "Alternative RAG implementation designed for MCP orchestration.\n",
    "Demonstrates different processing approach with same MCP interface."
   ]
  },
  {
   "cell_type": "code",
   "execution_count": 1,
   "id": "04fb5731",
   "metadata": {
    "execution": {
     "iopub.execute_input": "2025-08-13T14:03:11.096837Z",
     "iopub.status.busy": "2025-08-13T14:03:11.096635Z",
     "iopub.status.idle": "2025-08-13T14:03:11.099954Z",
     "shell.execute_reply": "2025-08-13T14:03:11.099540Z"
    },
    "papermill": {
     "duration": 0.005759,
     "end_time": "2025-08-13T14:03:11.100683",
     "exception": false,
     "start_time": "2025-08-13T14:03:11.094924",
     "status": "completed"
    },
    "tags": [
     "parameters"
    ]
   },
   "outputs": [],
   "source": [
    "# --- MCP Parameters (Papermill injection point) ---\n",
    "query = \"hello two\"\n",
    "return_chunks = False\n",
    "return_answer = True\n",
    "reindex = False\n",
    "pipeline_version = \"two@mcp\""
   ]
  },
  {
   "cell_type": "code",
   "execution_count": 2,
   "id": "0339d24f",
   "metadata": {
    "execution": {
     "iopub.execute_input": "2025-08-13T14:03:11.103312Z",
     "iopub.status.busy": "2025-08-13T14:03:11.103016Z",
     "iopub.status.idle": "2025-08-13T14:03:11.106423Z",
     "shell.execute_reply": "2025-08-13T14:03:11.105855Z"
    },
    "papermill": {
     "duration": 0.006115,
     "end_time": "2025-08-13T14:03:11.107684",
     "exception": false,
     "start_time": "2025-08-13T14:03:11.101569",
     "status": "completed"
    },
    "tags": [
     "injected-parameters"
    ]
   },
   "outputs": [],
   "source": [
    "# Parameters\n",
    "query = \"What is machine learning?\"\n",
    "similarity_threshold = 0.7\n",
    "return_chunks = False\n"
   ]
  },
  {
   "cell_type": "markdown",
   "id": "f5a318a6",
   "metadata": {
    "papermill": {
     "duration": 0.001476,
     "end_time": "2025-08-13T14:03:11.110901",
     "exception": false,
     "start_time": "2025-08-13T14:03:11.109425",
     "status": "completed"
    },
    "tags": []
   },
   "source": [
    "## RAG Processing - Method Two\n",
    "\n",
    "Alternative RAG approach with enhanced processing and MCP-optimized outputs."
   ]
  },
  {
   "cell_type": "code",
   "execution_count": 3,
   "id": "c1bd3fc9",
   "metadata": {
    "execution": {
     "iopub.execute_input": "2025-08-13T14:03:11.114997Z",
     "iopub.status.busy": "2025-08-13T14:03:11.114691Z",
     "iopub.status.idle": "2025-08-13T14:03:11.127667Z",
     "shell.execute_reply": "2025-08-13T14:03:11.126870Z"
    },
    "papermill": {
     "duration": 0.016394,
     "end_time": "2025-08-13T14:03:11.128619",
     "exception": false,
     "start_time": "2025-08-13T14:03:11.112225",
     "status": "completed"
    },
    "tags": []
   },
   "outputs": [
    {
     "name": "stdout",
     "output_type": "stream",
     "text": [
      "🔍 Worker Two processing: 'What is machine learning?'\n",
      "📋 Pipeline version: two@mcp\n",
      "🎛️ Return chunks: False, Return answer: True\n",
      "🔄 Reindex: False\n",
      "📁 Working directory: f:\\LernRAG\\ragmcp\n",
      "📂 Using existing enhanced index\n",
      "📋 Enhanced chunk retrieval...\n",
      "✅ Retrieved 3 enhanced chunks with metadata\n",
      "🤖 Enhanced answer generation...\n",
      "✅ Generated enhanced answer: MCP-TWO: Enhanced analysis for 'What is machine le...\n"
     ]
    }
   ],
   "source": [
    "# --- RAG Implementation Two ---\n",
    "import time\n",
    "from pathlib import Path\n",
    "\n",
    "# Get the base directory for relative paths\n",
    "NOTEBOOK_DIR = Path.cwd()  # For regular Jupyter\n",
    "# Alternative for environments where __file__ is available:\n",
    "# NOTEBOOK_DIR = Path(__file__).parent if '__file__' in globals() else Path.cwd()\n",
    "\n",
    "print(f\"🔍 Worker Two processing: '{query}'\")\n",
    "print(f\"📋 Pipeline version: {pipeline_version}\")\n",
    "print(f\"🎛️ Return chunks: {return_chunks}, Return answer: {return_answer}\")\n",
    "print(f\"🔄 Reindex: {reindex}\")\n",
    "print(f\"📁 Working directory: {NOTEBOOK_DIR}\")\n",
    "\n",
    "# Handle enhanced reindexing if requested\n",
    "if reindex:\n",
    "    print(\"🔄 Enhanced index rebuilding...\")\n",
    "    # Simulate enhanced index rebuild with proper paths\n",
    "    # corpus_path = NOTEBOOK_DIR / \"data\" / \"corpus.jsonl\"\n",
    "    # index_path = NOTEBOOK_DIR / \"data\" / \"enhanced_index\"\n",
    "    time.sleep(0.15)\n",
    "    print(\"✅ Enhanced index rebuilt with metadata\")\n",
    "else:\n",
    "    print(\"📂 Using existing enhanced index\")\n",
    "\n",
    "# Enhanced chunk retrieval with metadata\n",
    "chunks = []\n",
    "if return_chunks or return_answer:\n",
    "    print(\"📋 Enhanced chunk retrieval...\")\n",
    "    chunks = [\n",
    "        {\n",
    "            \"text\": f\"Enhanced chunk 1 for '{query}' with semantic analysis\",\n",
    "            \"score\": 0.95,\n",
    "            \"source\": \"doc_1\",\n",
    "            \"metadata\": {\"type\": \"semantic\", \"relevance\": \"high\"}\n",
    "        },\n",
    "        {\n",
    "            \"text\": f\"Enhanced chunk 2 for '{query}' with contextual embedding\", \n",
    "            \"score\": 0.87,\n",
    "            \"source\": \"doc_2\",\n",
    "            \"metadata\": {\"type\": \"contextual\", \"relevance\": \"medium\"}\n",
    "        },\n",
    "        {\n",
    "            \"text\": f\"Enhanced chunk 3 for '{query}' with cross-reference data\",\n",
    "            \"score\": 0.82,\n",
    "            \"source\": \"doc_3\", \n",
    "            \"metadata\": {\"type\": \"reference\", \"relevance\": \"medium\"}\n",
    "        }\n",
    "    ]\n",
    "    print(f\"✅ Retrieved {len(chunks)} enhanced chunks with metadata\")\n",
    "\n",
    "# Enhanced answer generation\n",
    "answer_text = None\n",
    "if return_answer:\n",
    "    print(\"🤖 Enhanced answer generation...\")\n",
    "    answer_text = f\"MCP-TWO: Enhanced analysis for '{query}' using advanced semantic processing and cross-referencing.\"\n",
    "    print(f\"✅ Generated enhanced answer: {answer_text[:50]}...\")\n",
    "\n",
    "# Enhanced metrics\n",
    "processing_time = 0.08\n",
    "confidence_score = 0.92 if return_answer else None\n",
    "capabilities = [\"semantic_search\", \"metadata_analysis\", \"cross_referencing\"]"
   ]
  },
  {
   "cell_type": "markdown",
   "id": "3f78c56c",
   "metadata": {
    "papermill": {
     "duration": 0.001981,
     "end_time": "2025-08-13T14:03:11.132388",
     "exception": false,
     "start_time": "2025-08-13T14:03:11.130407",
     "status": "completed"
    },
    "tags": []
   },
   "source": [
    "## MCP Output Publishing\n",
    "\n",
    "Standardized output format for MCP tool integration and LLM consumption."
   ]
  },
  {
   "cell_type": "code",
   "execution_count": 4,
   "id": "f05f5b72",
   "metadata": {
    "execution": {
     "iopub.execute_input": "2025-08-13T14:03:11.137626Z",
     "iopub.status.busy": "2025-08-13T14:03:11.137122Z",
     "iopub.status.idle": "2025-08-13T14:03:14.082172Z",
     "shell.execute_reply": "2025-08-13T14:03:14.081698Z"
    },
    "papermill": {
     "duration": 2.948686,
     "end_time": "2025-08-13T14:03:14.082879",
     "exception": false,
     "start_time": "2025-08-13T14:03:11.134193",
     "status": "completed"
    },
    "tags": []
   },
   "outputs": [
    {
     "data": {
      "application/scrapbook.scrap.json+json": {
       "data": {
        "answer": "MCP-TWO: Enhanced analysis for 'What is machine learning?' using advanced semantic processing and cross-referencing.",
        "capabilities": [
         "semantic_search",
         "metadata_analysis",
         "cross_referencing"
        ],
        "metrics": {
         "chunks_retrieved": 3,
         "confidence": 0.92,
         "method": "enhanced_semantic_search",
         "processing_time": 0.08,
         "query_length": 25
        },
        "version": "two@mcp"
       },
       "encoder": "json",
       "name": "data",
       "version": 1
      }
     },
     "metadata": {
      "scrapbook": {
       "data": true,
       "display": false,
       "name": "data"
      }
     },
     "output_type": "display_data"
    },
    {
     "name": "stdout",
     "output_type": "stream",
     "text": [
      "📦 Enhanced MCP outputs published\n",
      "🚀 Data structure: ['version', 'metrics', 'capabilities', 'answer']\n",
      "✅ Ready for advanced MCP orchestration\n"
     ]
    }
   ],
   "source": [
    "# --- MCP-Compatible Output Publishing ---\n",
    "import scrapbook as sb\n",
    "\n",
    "# Build enhanced data object\n",
    "data = {\n",
    "    \"version\": pipeline_version,\n",
    "    \"metrics\": {\n",
    "        \"query_length\": len(query),\n",
    "        \"confidence\": confidence_score,\n",
    "        \"processing_time\": processing_time,\n",
    "        \"method\": \"enhanced_semantic_search\",\n",
    "        \"chunks_retrieved\": len(chunks) if chunks else 0\n",
    "    },\n",
    "    \"capabilities\": capabilities\n",
    "}\n",
    "\n",
    "# Add conditional outputs based on parameters\n",
    "if return_answer and answer_text:\n",
    "    data[\"answer\"] = answer_text\n",
    "\n",
    "if return_chunks and chunks:\n",
    "    data[\"chunks\"] = chunks\n",
    "\n",
    "# Output single data field\n",
    "sb.glue(\"data\", data)\n",
    "\n",
    "print(\"📦 Enhanced MCP outputs published\")\n",
    "print(f\"🚀 Data structure: {list(data.keys())}\")\n",
    "print(\"✅ Ready for advanced MCP orchestration\")"
   ]
  }
 ],
 "metadata": {
  "kernelspec": {
   "display_name": "Python 3",
   "language": "python",
   "name": "python3"
  },
  "language_info": {
   "codemirror_mode": {
    "name": "ipython",
    "version": 3
   },
   "file_extension": ".py",
   "mimetype": "text/x-python",
   "name": "python",
   "nbconvert_exporter": "python",
   "pygments_lexer": "ipython3",
   "version": "3.13.3"
  },
  "papermill": {
   "default_parameters": {},
   "duration": 4.952716,
   "end_time": "2025-08-13T14:03:14.743144",
   "environment_variables": {},
   "exception": null,
   "input_path": "f:\\LernRAG\\ragmcp\\workers\\rag_hello_two_mcp.ipynb",
   "output_path": "f:\\LernRAG\\ragmcp\\runs\\rag_hello_two_mcp_out.ipynb",
   "parameters": {
    "query": "What is machine learning?",
    "return_chunks": false,
    "similarity_threshold": 0.7
   },
   "start_time": "2025-08-13T14:03:09.790428",
   "version": "2.6.0"
  }
 },
 "nbformat": 4,
 "nbformat_minor": 5
}