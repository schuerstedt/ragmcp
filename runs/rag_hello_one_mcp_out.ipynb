{
 "cells": [
  {
   "cell_type": "markdown",
   "id": "0b121cf4",
   "metadata": {
    "papermill": {
     "duration": 0.001137,
     "end_time": "2025-08-13T14:03:06.066900",
     "exception": false,
     "start_time": "2025-08-13T14:03:06.065763",
     "status": "completed"
    },
    "tags": []
   },
   "source": [
    "# RAG Worker One - MCP Compatible\n",
    "\n",
    "This notebook is designed to work with the MCP RAG orchestrator.\n",
    "It processes queries and returns results via scrapbook, optimized for MCP tool calling."
   ]
  },
  {
   "cell_type": "code",
   "execution_count": 1,
   "id": "b2e0fec1",
   "metadata": {
    "execution": {
     "iopub.execute_input": "2025-08-13T14:03:06.069648Z",
     "iopub.status.busy": "2025-08-13T14:03:06.069448Z",
     "iopub.status.idle": "2025-08-13T14:03:06.073207Z",
     "shell.execute_reply": "2025-08-13T14:03:06.072845Z"
    },
    "papermill": {
     "duration": 0.005733,
     "end_time": "2025-08-13T14:03:06.073901",
     "exception": false,
     "start_time": "2025-08-13T14:03:06.068168",
     "status": "completed"
    },
    "tags": [
     "parameters"
    ]
   },
   "outputs": [],
   "source": [
    "# --- MCP Parameters (Papermill injection point) ---\n",
    "query = \"hello one\"\n",
    "return_chunks = False\n",
    "return_answer = True\n",
    "reindex = False\n",
    "pipeline_version = \"one@mcp\""
   ]
  },
  {
   "cell_type": "code",
   "execution_count": 2,
   "id": "0ef56beb",
   "metadata": {
    "execution": {
     "iopub.execute_input": "2025-08-13T14:03:06.076405Z",
     "iopub.status.busy": "2025-08-13T14:03:06.076195Z",
     "iopub.status.idle": "2025-08-13T14:03:06.078449Z",
     "shell.execute_reply": "2025-08-13T14:03:06.078039Z"
    },
    "papermill": {
     "duration": 0.004206,
     "end_time": "2025-08-13T14:03:06.079077",
     "exception": false,
     "start_time": "2025-08-13T14:03:06.074871",
     "status": "completed"
    },
    "tags": [
     "injected-parameters"
    ]
   },
   "outputs": [],
   "source": [
    "# Parameters\n",
    "query = \"What is machine learning?\"\n",
    "return_chunks = False\n"
   ]
  },
  {
   "cell_type": "markdown",
   "id": "55c67a96",
   "metadata": {
    "papermill": {
     "duration": 0.000843,
     "end_time": "2025-08-13T14:03:06.080963",
     "exception": false,
     "start_time": "2025-08-13T14:03:06.080120",
     "status": "completed"
    },
    "tags": []
   },
   "source": [
    "## RAG Processing - Method One\n",
    "\n",
    "Simple demonstration RAG implementation focusing on clear MCP-compatible outputs."
   ]
  },
  {
   "cell_type": "code",
   "execution_count": 3,
   "id": "65ca7c32",
   "metadata": {
    "execution": {
     "iopub.execute_input": "2025-08-13T14:03:06.083170Z",
     "iopub.status.busy": "2025-08-13T14:03:06.082956Z",
     "iopub.status.idle": "2025-08-13T14:03:06.087007Z",
     "shell.execute_reply": "2025-08-13T14:03:06.086510Z"
    },
    "papermill": {
     "duration": 0.005929,
     "end_time": "2025-08-13T14:03:06.087681",
     "exception": false,
     "start_time": "2025-08-13T14:03:06.081752",
     "status": "completed"
    },
    "tags": []
   },
   "outputs": [
    {
     "name": "stdout",
     "output_type": "stream",
     "text": [
      "🔍 Worker One processing: 'What is machine learning?'\n",
      "📋 Pipeline version: one@mcp\n",
      "🎛️ Return chunks: False, Return answer: True\n",
      "🔄 Reindex: False\n",
      "📁 Working directory: f:\\LernRAG\\ragmcp\n",
      "📂 Using existing index\n",
      "📋 Retrieving chunks...\n",
      "✅ Retrieved 3 chunks\n",
      "🤖 Generating answer...\n",
      "✅ Generated answer: MCP-ONE: This is a generated answer for 'What is m...\n"
     ]
    }
   ],
   "source": [
    "# --- RAG Implementation One ---\n",
    "import time\n",
    "from pathlib import Path\n",
    "\n",
    "# Get the base directory for relative paths\n",
    "NOTEBOOK_DIR = Path.cwd()  # For regular Jupyter\n",
    "# Alternative for environments where __file__ is available:\n",
    "# NOTEBOOK_DIR = Path(__file__).parent if '__file__' in globals() else Path.cwd()\n",
    "\n",
    "print(f\"🔍 Worker One processing: '{query}'\")\n",
    "print(f\"📋 Pipeline version: {pipeline_version}\")\n",
    "print(f\"🎛️ Return chunks: {return_chunks}, Return answer: {return_answer}\")\n",
    "print(f\"🔄 Reindex: {reindex}\")\n",
    "print(f\"📁 Working directory: {NOTEBOOK_DIR}\")\n",
    "\n",
    "# Handle reindexing if requested\n",
    "if reindex:\n",
    "    print(\"🔄 Rebuilding index...\")\n",
    "    # Simulate index rebuild with proper paths\n",
    "    # corpus_path = NOTEBOOK_DIR / \"data\" / \"corpus.jsonl\"\n",
    "    # index_path = NOTEBOOK_DIR / \"data\" / \"vector_index\"\n",
    "    time.sleep(0.1)\n",
    "    print(\"✅ Index rebuilt\")\n",
    "else:\n",
    "    print(\"📂 Using existing index\")\n",
    "\n",
    "# Simulate chunk retrieval if needed\n",
    "chunks = []\n",
    "if return_chunks or return_answer:\n",
    "    print(\"📋 Retrieving chunks...\")\n",
    "    chunks = [\n",
    "        f\"Chunk 1 for '{query}' - basic semantic match\",\n",
    "        f\"Chunk 2 for '{query}' - contextual information\", \n",
    "        f\"Chunk 3 for '{query}' - related concepts\"\n",
    "    ]\n",
    "    print(f\"✅ Retrieved {len(chunks)} chunks\")\n",
    "\n",
    "# Simulate answer generation if needed\n",
    "answer_text = None\n",
    "if return_answer:\n",
    "    print(\"🤖 Generating answer...\")\n",
    "    answer_text = f\"MCP-ONE: This is a generated answer for '{query}' based on retrieved context.\"\n",
    "    print(f\"✅ Generated answer: {answer_text[:50]}...\")\n",
    "\n",
    "# Collect metrics\n",
    "processing_time = 0.12\n",
    "confidence_score = 0.85 if return_answer else None"
   ]
  },
  {
   "cell_type": "markdown",
   "id": "e7df4dc5",
   "metadata": {
    "papermill": {
     "duration": 0.001248,
     "end_time": "2025-08-13T14:03:06.090053",
     "exception": false,
     "start_time": "2025-08-13T14:03:06.088805",
     "status": "completed"
    },
    "tags": []
   },
   "source": [
    "## MCP Output Publishing\n",
    "\n",
    "Package results in MCP-friendly format for tool calling interfaces."
   ]
  },
  {
   "cell_type": "code",
   "execution_count": 4,
   "id": "c6ef1e12",
   "metadata": {
    "execution": {
     "iopub.execute_input": "2025-08-13T14:03:06.092684Z",
     "iopub.status.busy": "2025-08-13T14:03:06.092452Z",
     "iopub.status.idle": "2025-08-13T14:03:09.181337Z",
     "shell.execute_reply": "2025-08-13T14:03:09.180903Z"
    },
    "papermill": {
     "duration": 3.091019,
     "end_time": "2025-08-13T14:03:09.182033",
     "exception": false,
     "start_time": "2025-08-13T14:03:06.091014",
     "status": "completed"
    },
    "tags": []
   },
   "outputs": [
    {
     "data": {
      "application/scrapbook.scrap.json+json": {
       "data": {
        "answer": "MCP-ONE: This is a generated answer for 'What is machine learning?' based on retrieved context.",
        "metrics": {
         "chunks_retrieved": 3,
         "confidence": 0.85,
         "method": "semantic_search_demo",
         "processing_time": 0.12,
         "query_length": 25
        },
        "version": "one@mcp"
       },
       "encoder": "json",
       "name": "data",
       "version": 1
      }
     },
     "metadata": {
      "scrapbook": {
       "data": true,
       "display": false,
       "name": "data"
      }
     },
     "output_type": "display_data"
    },
    {
     "name": "stdout",
     "output_type": "stream",
     "text": [
      "📦 MCP outputs published via scrapbook\n",
      "🔧 Data structure: ['version', 'metrics', 'answer']\n",
      "✅ Ready for MCP tool consumption\n"
     ]
    }
   ],
   "source": [
    "# --- MCP-Compatible Output Publishing ---\n",
    "import scrapbook as sb\n",
    "\n",
    "# Build flexible data object\n",
    "data = {\n",
    "    \"version\": pipeline_version,\n",
    "    \"metrics\": {\n",
    "        \"query_length\": len(query),\n",
    "        \"confidence\": confidence_score,\n",
    "        \"processing_time\": processing_time,\n",
    "        \"method\": \"semantic_search_demo\",\n",
    "        \"chunks_retrieved\": len(chunks) if chunks else 0\n",
    "    }\n",
    "}\n",
    "\n",
    "# Add conditional outputs based on parameters\n",
    "if return_answer and answer_text:\n",
    "    data[\"answer\"] = answer_text\n",
    "\n",
    "if return_chunks and chunks:\n",
    "    data[\"chunks\"] = chunks\n",
    "\n",
    "# Output single data field\n",
    "sb.glue(\"data\", data)\n",
    "\n",
    "print(\"📦 MCP outputs published via scrapbook\")\n",
    "print(f\"🔧 Data structure: {list(data.keys())}\")\n",
    "print(\"✅ Ready for MCP tool consumption\")"
   ]
  }
 ],
 "metadata": {
  "kernelspec": {
   "display_name": "Python 3",
   "language": "python",
   "name": "python3"
  },
  "language_info": {
   "codemirror_mode": {
    "name": "ipython",
    "version": 3
   },
   "file_extension": ".py",
   "mimetype": "text/x-python",
   "name": "python",
   "nbconvert_exporter": "python",
   "pygments_lexer": "ipython3",
   "version": "3.13.3"
  },
  "papermill": {
   "default_parameters": {},
   "duration": 5.025796,
   "end_time": "2025-08-13T14:03:09.743828",
   "environment_variables": {},
   "exception": null,
   "input_path": "f:\\LernRAG\\ragmcp\\workers\\rag_hello_one_mcp.ipynb",
   "output_path": "f:\\LernRAG\\ragmcp\\runs\\rag_hello_one_mcp_out.ipynb",
   "parameters": {
    "query": "What is machine learning?",
    "return_chunks": false
   },
   "start_time": "2025-08-13T14:03:04.718032",
   "version": "2.6.0"
  }
 },
 "nbformat": 4,
 "nbformat_minor": 5
}